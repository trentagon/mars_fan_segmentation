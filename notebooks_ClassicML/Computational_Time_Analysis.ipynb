{
 "cells": [
  {
   "cell_type": "markdown",
   "metadata": {},
   "source": [
    "# Computational Time Analysis\n",
    "\n",
    "Here we do a time analysis for clustering and reinforcement learning. We use pycaret to do this analysis and conclude that the time required for clustering will not be a problem."
   ]
  },
  {
   "cell_type": "code",
   "execution_count": 16,
   "metadata": {},
   "outputs": [],
   "source": [
    "import numpy as np\n",
    "import pandas as pd\n",
    "import rioxarray as rxr\n",
    "import matplotlib.pyplot as plt\n",
    "from sklearn.model_selection import train_test_split\n",
    "from sklearn.ensemble import RandomForestClassifier\n",
    "from sklearn.metrics import accuracy_score, classification_report\n",
    "from sklearn.svm import SVC\n",
    "from sklearn.neighbors import KNeighborsClassifier\n",
    "from skimage.transform import rescale, downscale_local_mean\n",
    "from pycaret.classification import *\n",
    "from pycaret.clustering import *\n",
    "import time"
   ]
  },
  {
   "cell_type": "code",
   "execution_count": 17,
   "metadata": {},
   "outputs": [],
   "source": [
    "# Path to your working directory to store the images\n",
    "data_path = \"/Users/tthomas/Desktop/ESS569/MLGEO2024_MarsFans/data/ai_ready/\" # This is an example, change it to your own path\n",
    "\n",
    "blendDEM = rxr.open_rasterio(data_path + \"blendDEM_aiready.tif\", cache=False)\n",
    "blendSLOPE = rxr.open_rasterio(data_path + \"blendSLOPE_aiready.tif\", cache=False)\n",
    "\n",
    "ctxDEM = rxr.open_rasterio(data_path + \"ctxDEM_aiready.tif\", cache=False)\n",
    "ctxIMG = rxr.open_rasterio(data_path + \"ctxIMG_aiready.tif\", cache=False)\n",
    "ctxSLOPE = rxr.open_rasterio(data_path + \"ctxSLOPE_aiready.tif\", cache=False)\n",
    "\n",
    "dayIR = rxr.open_rasterio(data_path + \"dayIR_aiready.tif\", cache=False)\n",
    "nightIR = rxr.open_rasterio(data_path + \"nightIR_aiready.tif\", cache=False)\n",
    "\n",
    "hrscND = rxr.open_rasterio(data_path + \"hrscND_aiready.tif\", cache=False)\n",
    "hrscP1 = rxr.open_rasterio(data_path + \"hrscP1_aiready.tif\", cache=False)\n",
    "hrscP2 = rxr.open_rasterio(data_path + \"hrscP2_aiready.tif\", cache=False)\n",
    "hrscS1 = rxr.open_rasterio(data_path + \"hrscS1_aiready.tif\", cache=False)\n",
    "hrscS2 = rxr.open_rasterio(data_path + \"hrscS2_aiready.tif\", cache=False)\n",
    "\n",
    "training_imgs = [blendDEM, blendSLOPE, ctxDEM, ctxIMG, ctxSLOPE, dayIR, nightIR, hrscND, hrscP1, hrscP2, hrscS1, hrscS2]\n",
    "training_names = ['blendDEM', 'blendSLOPE', 'ctxDEM', 'ctxIMG', 'ctxSLOPE', 'dayIR', 'nightIR', 'hrscND', 'hrscP1', 'hrscP2', 'hrscS1', 'hrscS2']\n",
    "\n",
    "label_map = rxr.open_rasterio(\"/Users/tthomas/Desktop/ESS569/MLGEO2024_MarsFans/data/label/validation_map.tif\", cache=False)"
   ]
  },
  {
   "cell_type": "markdown",
   "metadata": {},
   "source": [
    "# Time analysis for clustering algorithms"
   ]
  },
  {
   "cell_type": "code",
   "execution_count": 25,
   "metadata": {},
   "outputs": [
    {
     "data": {
      "text/html": [
       "<style type=\"text/css\">\n",
       "#T_65b16_row4_col1 {\n",
       "  background-color: lightgreen;\n",
       "}\n",
       "</style>\n",
       "<table id=\"T_65b16\">\n",
       "  <thead>\n",
       "    <tr>\n",
       "      <th class=\"blank level0\" >&nbsp;</th>\n",
       "      <th id=\"T_65b16_level0_col0\" class=\"col_heading level0 col0\" >Description</th>\n",
       "      <th id=\"T_65b16_level0_col1\" class=\"col_heading level0 col1\" >Value</th>\n",
       "    </tr>\n",
       "  </thead>\n",
       "  <tbody>\n",
       "    <tr>\n",
       "      <th id=\"T_65b16_level0_row0\" class=\"row_heading level0 row0\" >0</th>\n",
       "      <td id=\"T_65b16_row0_col0\" class=\"data row0 col0\" >Session id</td>\n",
       "      <td id=\"T_65b16_row0_col1\" class=\"data row0 col1\" >3720</td>\n",
       "    </tr>\n",
       "    <tr>\n",
       "      <th id=\"T_65b16_level0_row1\" class=\"row_heading level0 row1\" >1</th>\n",
       "      <td id=\"T_65b16_row1_col0\" class=\"data row1 col0\" >Original data shape</td>\n",
       "      <td id=\"T_65b16_row1_col1\" class=\"data row1 col1\" >(40000, 10)</td>\n",
       "    </tr>\n",
       "    <tr>\n",
       "      <th id=\"T_65b16_level0_row2\" class=\"row_heading level0 row2\" >2</th>\n",
       "      <td id=\"T_65b16_row2_col0\" class=\"data row2 col0\" >Transformed data shape</td>\n",
       "      <td id=\"T_65b16_row2_col1\" class=\"data row2 col1\" >(40000, 10)</td>\n",
       "    </tr>\n",
       "    <tr>\n",
       "      <th id=\"T_65b16_level0_row3\" class=\"row_heading level0 row3\" >3</th>\n",
       "      <td id=\"T_65b16_row3_col0\" class=\"data row3 col0\" >Numeric features</td>\n",
       "      <td id=\"T_65b16_row3_col1\" class=\"data row3 col1\" >10</td>\n",
       "    </tr>\n",
       "    <tr>\n",
       "      <th id=\"T_65b16_level0_row4\" class=\"row_heading level0 row4\" >4</th>\n",
       "      <td id=\"T_65b16_row4_col0\" class=\"data row4 col0\" >Preprocess</td>\n",
       "      <td id=\"T_65b16_row4_col1\" class=\"data row4 col1\" >True</td>\n",
       "    </tr>\n",
       "    <tr>\n",
       "      <th id=\"T_65b16_level0_row5\" class=\"row_heading level0 row5\" >5</th>\n",
       "      <td id=\"T_65b16_row5_col0\" class=\"data row5 col0\" >Imputation type</td>\n",
       "      <td id=\"T_65b16_row5_col1\" class=\"data row5 col1\" >simple</td>\n",
       "    </tr>\n",
       "    <tr>\n",
       "      <th id=\"T_65b16_level0_row6\" class=\"row_heading level0 row6\" >6</th>\n",
       "      <td id=\"T_65b16_row6_col0\" class=\"data row6 col0\" >Numeric imputation</td>\n",
       "      <td id=\"T_65b16_row6_col1\" class=\"data row6 col1\" >mean</td>\n",
       "    </tr>\n",
       "    <tr>\n",
       "      <th id=\"T_65b16_level0_row7\" class=\"row_heading level0 row7\" >7</th>\n",
       "      <td id=\"T_65b16_row7_col0\" class=\"data row7 col0\" >Categorical imputation</td>\n",
       "      <td id=\"T_65b16_row7_col1\" class=\"data row7 col1\" >mode</td>\n",
       "    </tr>\n",
       "    <tr>\n",
       "      <th id=\"T_65b16_level0_row8\" class=\"row_heading level0 row8\" >8</th>\n",
       "      <td id=\"T_65b16_row8_col0\" class=\"data row8 col0\" >CPU Jobs</td>\n",
       "      <td id=\"T_65b16_row8_col1\" class=\"data row8 col1\" >-1</td>\n",
       "    </tr>\n",
       "    <tr>\n",
       "      <th id=\"T_65b16_level0_row9\" class=\"row_heading level0 row9\" >9</th>\n",
       "      <td id=\"T_65b16_row9_col0\" class=\"data row9 col0\" >Use GPU</td>\n",
       "      <td id=\"T_65b16_row9_col1\" class=\"data row9 col1\" >False</td>\n",
       "    </tr>\n",
       "    <tr>\n",
       "      <th id=\"T_65b16_level0_row10\" class=\"row_heading level0 row10\" >10</th>\n",
       "      <td id=\"T_65b16_row10_col0\" class=\"data row10 col0\" >Log Experiment</td>\n",
       "      <td id=\"T_65b16_row10_col1\" class=\"data row10 col1\" >False</td>\n",
       "    </tr>\n",
       "    <tr>\n",
       "      <th id=\"T_65b16_level0_row11\" class=\"row_heading level0 row11\" >11</th>\n",
       "      <td id=\"T_65b16_row11_col0\" class=\"data row11 col0\" >Experiment Name</td>\n",
       "      <td id=\"T_65b16_row11_col1\" class=\"data row11 col1\" >cluster-default-name</td>\n",
       "    </tr>\n",
       "    <tr>\n",
       "      <th id=\"T_65b16_level0_row12\" class=\"row_heading level0 row12\" >12</th>\n",
       "      <td id=\"T_65b16_row12_col0\" class=\"data row12 col0\" >USI</td>\n",
       "      <td id=\"T_65b16_row12_col1\" class=\"data row12 col1\" >3be7</td>\n",
       "    </tr>\n",
       "  </tbody>\n",
       "</table>\n"
      ],
      "text/plain": [
       "<pandas.io.formats.style.Styler at 0x34bccf710>"
      ]
     },
     "metadata": {},
     "output_type": "display_data"
    },
    {
     "data": {
      "text/html": [],
      "text/plain": [
       "<IPython.core.display.HTML object>"
      ]
     },
     "metadata": {},
     "output_type": "display_data"
    },
    {
     "data": {
      "text/html": [
       "<style type=\"text/css\">\n",
       "</style>\n",
       "<table id=\"T_3c06f\">\n",
       "  <thead>\n",
       "    <tr>\n",
       "      <th class=\"blank level0\" >&nbsp;</th>\n",
       "      <th id=\"T_3c06f_level0_col0\" class=\"col_heading level0 col0\" >Silhouette</th>\n",
       "      <th id=\"T_3c06f_level0_col1\" class=\"col_heading level0 col1\" >Calinski-Harabasz</th>\n",
       "      <th id=\"T_3c06f_level0_col2\" class=\"col_heading level0 col2\" >Davies-Bouldin</th>\n",
       "      <th id=\"T_3c06f_level0_col3\" class=\"col_heading level0 col3\" >Homogeneity</th>\n",
       "      <th id=\"T_3c06f_level0_col4\" class=\"col_heading level0 col4\" >Rand Index</th>\n",
       "      <th id=\"T_3c06f_level0_col5\" class=\"col_heading level0 col5\" >Completeness</th>\n",
       "    </tr>\n",
       "  </thead>\n",
       "  <tbody>\n",
       "    <tr>\n",
       "      <th id=\"T_3c06f_level0_row0\" class=\"row_heading level0 row0\" >0</th>\n",
       "      <td id=\"T_3c06f_row0_col0\" class=\"data row0 col0\" >0.4003</td>\n",
       "      <td id=\"T_3c06f_row0_col1\" class=\"data row0 col1\" >14884.7154</td>\n",
       "      <td id=\"T_3c06f_row0_col2\" class=\"data row0 col2\" >1.1277</td>\n",
       "      <td id=\"T_3c06f_row0_col3\" class=\"data row0 col3\" >0</td>\n",
       "      <td id=\"T_3c06f_row0_col4\" class=\"data row0 col4\" >0</td>\n",
       "      <td id=\"T_3c06f_row0_col5\" class=\"data row0 col5\" >0</td>\n",
       "    </tr>\n",
       "  </tbody>\n",
       "</table>\n"
      ],
      "text/plain": [
       "<pandas.io.formats.style.Styler at 0x3446e5e50>"
      ]
     },
     "metadata": {},
     "output_type": "display_data"
    },
    {
     "data": {
      "text/html": [],
      "text/plain": [
       "<IPython.core.display.HTML object>"
      ]
     },
     "metadata": {},
     "output_type": "display_data"
    },
    {
     "data": {
      "text/html": [],
      "text/plain": [
       "<IPython.core.display.HTML object>"
      ]
     },
     "metadata": {},
     "output_type": "display_data"
    },
    {
     "data": {
      "text/html": [
       "<style type=\"text/css\">\n",
       "</style>\n",
       "<table id=\"T_b8176\">\n",
       "  <thead>\n",
       "    <tr>\n",
       "      <th class=\"blank level0\" >&nbsp;</th>\n",
       "      <th id=\"T_b8176_level0_col0\" class=\"col_heading level0 col0\" >Silhouette</th>\n",
       "      <th id=\"T_b8176_level0_col1\" class=\"col_heading level0 col1\" >Calinski-Harabasz</th>\n",
       "      <th id=\"T_b8176_level0_col2\" class=\"col_heading level0 col2\" >Davies-Bouldin</th>\n",
       "      <th id=\"T_b8176_level0_col3\" class=\"col_heading level0 col3\" >Homogeneity</th>\n",
       "      <th id=\"T_b8176_level0_col4\" class=\"col_heading level0 col4\" >Rand Index</th>\n",
       "      <th id=\"T_b8176_level0_col5\" class=\"col_heading level0 col5\" >Completeness</th>\n",
       "    </tr>\n",
       "  </thead>\n",
       "  <tbody>\n",
       "    <tr>\n",
       "      <th id=\"T_b8176_level0_row0\" class=\"row_heading level0 row0\" >0</th>\n",
       "      <td id=\"T_b8176_row0_col0\" class=\"data row0 col0\" >0.2895</td>\n",
       "      <td id=\"T_b8176_row0_col1\" class=\"data row0 col1\" >16068.6640</td>\n",
       "      <td id=\"T_b8176_row0_col2\" class=\"data row0 col2\" >1.2054</td>\n",
       "      <td id=\"T_b8176_row0_col3\" class=\"data row0 col3\" >0</td>\n",
       "      <td id=\"T_b8176_row0_col4\" class=\"data row0 col4\" >0</td>\n",
       "      <td id=\"T_b8176_row0_col5\" class=\"data row0 col5\" >0</td>\n",
       "    </tr>\n",
       "  </tbody>\n",
       "</table>\n"
      ],
      "text/plain": [
       "<pandas.io.formats.style.Styler at 0x17f0904d0>"
      ]
     },
     "metadata": {},
     "output_type": "display_data"
    },
    {
     "data": {
      "text/html": [],
      "text/plain": [
       "<IPython.core.display.HTML object>"
      ]
     },
     "metadata": {},
     "output_type": "display_data"
    },
    {
     "data": {
      "text/html": [],
      "text/plain": [
       "<IPython.core.display.HTML object>"
      ]
     },
     "metadata": {},
     "output_type": "display_data"
    },
    {
     "data": {
      "text/html": [
       "<style type=\"text/css\">\n",
       "</style>\n",
       "<table id=\"T_98a14\">\n",
       "  <thead>\n",
       "    <tr>\n",
       "      <th class=\"blank level0\" >&nbsp;</th>\n",
       "      <th id=\"T_98a14_level0_col0\" class=\"col_heading level0 col0\" >Silhouette</th>\n",
       "      <th id=\"T_98a14_level0_col1\" class=\"col_heading level0 col1\" >Calinski-Harabasz</th>\n",
       "      <th id=\"T_98a14_level0_col2\" class=\"col_heading level0 col2\" >Davies-Bouldin</th>\n",
       "      <th id=\"T_98a14_level0_col3\" class=\"col_heading level0 col3\" >Homogeneity</th>\n",
       "      <th id=\"T_98a14_level0_col4\" class=\"col_heading level0 col4\" >Rand Index</th>\n",
       "      <th id=\"T_98a14_level0_col5\" class=\"col_heading level0 col5\" >Completeness</th>\n",
       "    </tr>\n",
       "  </thead>\n",
       "  <tbody>\n",
       "    <tr>\n",
       "      <th id=\"T_98a14_level0_row0\" class=\"row_heading level0 row0\" >0</th>\n",
       "      <td id=\"T_98a14_row0_col0\" class=\"data row0 col0\" >0.2742</td>\n",
       "      <td id=\"T_98a14_row0_col1\" class=\"data row0 col1\" >15560.5771</td>\n",
       "      <td id=\"T_98a14_row0_col2\" class=\"data row0 col2\" >1.2520</td>\n",
       "      <td id=\"T_98a14_row0_col3\" class=\"data row0 col3\" >0</td>\n",
       "      <td id=\"T_98a14_row0_col4\" class=\"data row0 col4\" >0</td>\n",
       "      <td id=\"T_98a14_row0_col5\" class=\"data row0 col5\" >0</td>\n",
       "    </tr>\n",
       "  </tbody>\n",
       "</table>\n"
      ],
      "text/plain": [
       "<pandas.io.formats.style.Styler at 0x34b8a09d0>"
      ]
     },
     "metadata": {},
     "output_type": "display_data"
    },
    {
     "data": {
      "text/html": [],
      "text/plain": [
       "<IPython.core.display.HTML object>"
      ]
     },
     "metadata": {},
     "output_type": "display_data"
    },
    {
     "data": {
      "text/html": [],
      "text/plain": [
       "<IPython.core.display.HTML object>"
      ]
     },
     "metadata": {},
     "output_type": "display_data"
    },
    {
     "data": {
      "text/html": [
       "<style type=\"text/css\">\n",
       "</style>\n",
       "<table id=\"T_351bc\">\n",
       "  <thead>\n",
       "    <tr>\n",
       "      <th class=\"blank level0\" >&nbsp;</th>\n",
       "      <th id=\"T_351bc_level0_col0\" class=\"col_heading level0 col0\" >Silhouette</th>\n",
       "      <th id=\"T_351bc_level0_col1\" class=\"col_heading level0 col1\" >Calinski-Harabasz</th>\n",
       "      <th id=\"T_351bc_level0_col2\" class=\"col_heading level0 col2\" >Davies-Bouldin</th>\n",
       "      <th id=\"T_351bc_level0_col3\" class=\"col_heading level0 col3\" >Homogeneity</th>\n",
       "      <th id=\"T_351bc_level0_col4\" class=\"col_heading level0 col4\" >Rand Index</th>\n",
       "      <th id=\"T_351bc_level0_col5\" class=\"col_heading level0 col5\" >Completeness</th>\n",
       "    </tr>\n",
       "  </thead>\n",
       "  <tbody>\n",
       "    <tr>\n",
       "      <th id=\"T_351bc_level0_row0\" class=\"row_heading level0 row0\" >0</th>\n",
       "      <td id=\"T_351bc_row0_col0\" class=\"data row0 col0\" >0.2701</td>\n",
       "      <td id=\"T_351bc_row0_col1\" class=\"data row0 col1\" >13766.0203</td>\n",
       "      <td id=\"T_351bc_row0_col2\" class=\"data row0 col2\" >1.3137</td>\n",
       "      <td id=\"T_351bc_row0_col3\" class=\"data row0 col3\" >0</td>\n",
       "      <td id=\"T_351bc_row0_col4\" class=\"data row0 col4\" >0</td>\n",
       "      <td id=\"T_351bc_row0_col5\" class=\"data row0 col5\" >0</td>\n",
       "    </tr>\n",
       "  </tbody>\n",
       "</table>\n"
      ],
      "text/plain": [
       "<pandas.io.formats.style.Styler at 0x17f075350>"
      ]
     },
     "metadata": {},
     "output_type": "display_data"
    },
    {
     "data": {
      "text/html": [],
      "text/plain": [
       "<IPython.core.display.HTML object>"
      ]
     },
     "metadata": {},
     "output_type": "display_data"
    },
    {
     "data": {
      "text/html": [],
      "text/plain": [
       "<IPython.core.display.HTML object>"
      ]
     },
     "metadata": {},
     "output_type": "display_data"
    },
    {
     "data": {
      "text/html": [
       "<style type=\"text/css\">\n",
       "</style>\n",
       "<table id=\"T_b4001\">\n",
       "  <thead>\n",
       "    <tr>\n",
       "      <th class=\"blank level0\" >&nbsp;</th>\n",
       "      <th id=\"T_b4001_level0_col0\" class=\"col_heading level0 col0\" >Silhouette</th>\n",
       "      <th id=\"T_b4001_level0_col1\" class=\"col_heading level0 col1\" >Calinski-Harabasz</th>\n",
       "      <th id=\"T_b4001_level0_col2\" class=\"col_heading level0 col2\" >Davies-Bouldin</th>\n",
       "      <th id=\"T_b4001_level0_col3\" class=\"col_heading level0 col3\" >Homogeneity</th>\n",
       "      <th id=\"T_b4001_level0_col4\" class=\"col_heading level0 col4\" >Rand Index</th>\n",
       "      <th id=\"T_b4001_level0_col5\" class=\"col_heading level0 col5\" >Completeness</th>\n",
       "    </tr>\n",
       "  </thead>\n",
       "  <tbody>\n",
       "    <tr>\n",
       "      <th id=\"T_b4001_level0_row0\" class=\"row_heading level0 row0\" >0</th>\n",
       "      <td id=\"T_b4001_row0_col0\" class=\"data row0 col0\" >0.2400</td>\n",
       "      <td id=\"T_b4001_row0_col1\" class=\"data row0 col1\" >13733.9612</td>\n",
       "      <td id=\"T_b4001_row0_col2\" class=\"data row0 col2\" >1.2744</td>\n",
       "      <td id=\"T_b4001_row0_col3\" class=\"data row0 col3\" >0</td>\n",
       "      <td id=\"T_b4001_row0_col4\" class=\"data row0 col4\" >0</td>\n",
       "      <td id=\"T_b4001_row0_col5\" class=\"data row0 col5\" >0</td>\n",
       "    </tr>\n",
       "  </tbody>\n",
       "</table>\n"
      ],
      "text/plain": [
       "<pandas.io.formats.style.Styler at 0x17f075350>"
      ]
     },
     "metadata": {},
     "output_type": "display_data"
    },
    {
     "data": {
      "text/html": [],
      "text/plain": [
       "<IPython.core.display.HTML object>"
      ]
     },
     "metadata": {},
     "output_type": "display_data"
    },
    {
     "data": {
      "text/html": [],
      "text/plain": [
       "<IPython.core.display.HTML object>"
      ]
     },
     "metadata": {},
     "output_type": "display_data"
    },
    {
     "data": {
      "text/html": [
       "<style type=\"text/css\">\n",
       "</style>\n",
       "<table id=\"T_10bb3\">\n",
       "  <thead>\n",
       "    <tr>\n",
       "      <th class=\"blank level0\" >&nbsp;</th>\n",
       "      <th id=\"T_10bb3_level0_col0\" class=\"col_heading level0 col0\" >Silhouette</th>\n",
       "      <th id=\"T_10bb3_level0_col1\" class=\"col_heading level0 col1\" >Calinski-Harabasz</th>\n",
       "      <th id=\"T_10bb3_level0_col2\" class=\"col_heading level0 col2\" >Davies-Bouldin</th>\n",
       "      <th id=\"T_10bb3_level0_col3\" class=\"col_heading level0 col3\" >Homogeneity</th>\n",
       "      <th id=\"T_10bb3_level0_col4\" class=\"col_heading level0 col4\" >Rand Index</th>\n",
       "      <th id=\"T_10bb3_level0_col5\" class=\"col_heading level0 col5\" >Completeness</th>\n",
       "    </tr>\n",
       "  </thead>\n",
       "  <tbody>\n",
       "    <tr>\n",
       "      <th id=\"T_10bb3_level0_row0\" class=\"row_heading level0 row0\" >0</th>\n",
       "      <td id=\"T_10bb3_row0_col0\" class=\"data row0 col0\" >0.2129</td>\n",
       "      <td id=\"T_10bb3_row0_col1\" class=\"data row0 col1\" >12630.2915</td>\n",
       "      <td id=\"T_10bb3_row0_col2\" class=\"data row0 col2\" >1.3697</td>\n",
       "      <td id=\"T_10bb3_row0_col3\" class=\"data row0 col3\" >0</td>\n",
       "      <td id=\"T_10bb3_row0_col4\" class=\"data row0 col4\" >0</td>\n",
       "      <td id=\"T_10bb3_row0_col5\" class=\"data row0 col5\" >0</td>\n",
       "    </tr>\n",
       "  </tbody>\n",
       "</table>\n"
      ],
      "text/plain": [
       "<pandas.io.formats.style.Styler at 0x34b9207d0>"
      ]
     },
     "metadata": {},
     "output_type": "display_data"
    },
    {
     "data": {
      "text/html": [],
      "text/plain": [
       "<IPython.core.display.HTML object>"
      ]
     },
     "metadata": {},
     "output_type": "display_data"
    },
    {
     "data": {
      "text/html": [],
      "text/plain": [
       "<IPython.core.display.HTML object>"
      ]
     },
     "metadata": {},
     "output_type": "display_data"
    },
    {
     "data": {
      "text/html": [
       "<style type=\"text/css\">\n",
       "</style>\n",
       "<table id=\"T_0354b\">\n",
       "  <thead>\n",
       "    <tr>\n",
       "      <th class=\"blank level0\" >&nbsp;</th>\n",
       "      <th id=\"T_0354b_level0_col0\" class=\"col_heading level0 col0\" >Silhouette</th>\n",
       "      <th id=\"T_0354b_level0_col1\" class=\"col_heading level0 col1\" >Calinski-Harabasz</th>\n",
       "      <th id=\"T_0354b_level0_col2\" class=\"col_heading level0 col2\" >Davies-Bouldin</th>\n",
       "      <th id=\"T_0354b_level0_col3\" class=\"col_heading level0 col3\" >Homogeneity</th>\n",
       "      <th id=\"T_0354b_level0_col4\" class=\"col_heading level0 col4\" >Rand Index</th>\n",
       "      <th id=\"T_0354b_level0_col5\" class=\"col_heading level0 col5\" >Completeness</th>\n",
       "    </tr>\n",
       "  </thead>\n",
       "  <tbody>\n",
       "    <tr>\n",
       "      <th id=\"T_0354b_level0_row0\" class=\"row_heading level0 row0\" >0</th>\n",
       "      <td id=\"T_0354b_row0_col0\" class=\"data row0 col0\" >0.2195</td>\n",
       "      <td id=\"T_0354b_row0_col1\" class=\"data row0 col1\" >11668.1881</td>\n",
       "      <td id=\"T_0354b_row0_col2\" class=\"data row0 col2\" >1.3610</td>\n",
       "      <td id=\"T_0354b_row0_col3\" class=\"data row0 col3\" >0</td>\n",
       "      <td id=\"T_0354b_row0_col4\" class=\"data row0 col4\" >0</td>\n",
       "      <td id=\"T_0354b_row0_col5\" class=\"data row0 col5\" >0</td>\n",
       "    </tr>\n",
       "  </tbody>\n",
       "</table>\n"
      ],
      "text/plain": [
       "<pandas.io.formats.style.Styler at 0x34b909e50>"
      ]
     },
     "metadata": {},
     "output_type": "display_data"
    },
    {
     "data": {
      "text/html": [],
      "text/plain": [
       "<IPython.core.display.HTML object>"
      ]
     },
     "metadata": {},
     "output_type": "display_data"
    },
    {
     "data": {
      "text/html": [],
      "text/plain": [
       "<IPython.core.display.HTML object>"
      ]
     },
     "metadata": {},
     "output_type": "display_data"
    },
    {
     "data": {
      "text/html": [
       "<style type=\"text/css\">\n",
       "</style>\n",
       "<table id=\"T_d5f1a\">\n",
       "  <thead>\n",
       "    <tr>\n",
       "      <th class=\"blank level0\" >&nbsp;</th>\n",
       "      <th id=\"T_d5f1a_level0_col0\" class=\"col_heading level0 col0\" >Silhouette</th>\n",
       "      <th id=\"T_d5f1a_level0_col1\" class=\"col_heading level0 col1\" >Calinski-Harabasz</th>\n",
       "      <th id=\"T_d5f1a_level0_col2\" class=\"col_heading level0 col2\" >Davies-Bouldin</th>\n",
       "      <th id=\"T_d5f1a_level0_col3\" class=\"col_heading level0 col3\" >Homogeneity</th>\n",
       "      <th id=\"T_d5f1a_level0_col4\" class=\"col_heading level0 col4\" >Rand Index</th>\n",
       "      <th id=\"T_d5f1a_level0_col5\" class=\"col_heading level0 col5\" >Completeness</th>\n",
       "    </tr>\n",
       "  </thead>\n",
       "  <tbody>\n",
       "    <tr>\n",
       "      <th id=\"T_d5f1a_level0_row0\" class=\"row_heading level0 row0\" >0</th>\n",
       "      <td id=\"T_d5f1a_row0_col0\" class=\"data row0 col0\" >0.2281</td>\n",
       "      <td id=\"T_d5f1a_row0_col1\" class=\"data row0 col1\" >11533.2402</td>\n",
       "      <td id=\"T_d5f1a_row0_col2\" class=\"data row0 col2\" >1.3503</td>\n",
       "      <td id=\"T_d5f1a_row0_col3\" class=\"data row0 col3\" >0</td>\n",
       "      <td id=\"T_d5f1a_row0_col4\" class=\"data row0 col4\" >0</td>\n",
       "      <td id=\"T_d5f1a_row0_col5\" class=\"data row0 col5\" >0</td>\n",
       "    </tr>\n",
       "  </tbody>\n",
       "</table>\n"
      ],
      "text/plain": [
       "<pandas.io.formats.style.Styler at 0x34bd5d710>"
      ]
     },
     "metadata": {},
     "output_type": "display_data"
    },
    {
     "data": {
      "text/html": [],
      "text/plain": [
       "<IPython.core.display.HTML object>"
      ]
     },
     "metadata": {},
     "output_type": "display_data"
    },
    {
     "data": {
      "text/html": [],
      "text/plain": [
       "<IPython.core.display.HTML object>"
      ]
     },
     "metadata": {},
     "output_type": "display_data"
    },
    {
     "data": {
      "text/html": [
       "<style type=\"text/css\">\n",
       "</style>\n",
       "<table id=\"T_dcc88\">\n",
       "  <thead>\n",
       "    <tr>\n",
       "      <th class=\"blank level0\" >&nbsp;</th>\n",
       "      <th id=\"T_dcc88_level0_col0\" class=\"col_heading level0 col0\" >Silhouette</th>\n",
       "      <th id=\"T_dcc88_level0_col1\" class=\"col_heading level0 col1\" >Calinski-Harabasz</th>\n",
       "      <th id=\"T_dcc88_level0_col2\" class=\"col_heading level0 col2\" >Davies-Bouldin</th>\n",
       "      <th id=\"T_dcc88_level0_col3\" class=\"col_heading level0 col3\" >Homogeneity</th>\n",
       "      <th id=\"T_dcc88_level0_col4\" class=\"col_heading level0 col4\" >Rand Index</th>\n",
       "      <th id=\"T_dcc88_level0_col5\" class=\"col_heading level0 col5\" >Completeness</th>\n",
       "    </tr>\n",
       "  </thead>\n",
       "  <tbody>\n",
       "    <tr>\n",
       "      <th id=\"T_dcc88_level0_row0\" class=\"row_heading level0 row0\" >0</th>\n",
       "      <td id=\"T_dcc88_row0_col0\" class=\"data row0 col0\" >0.2310</td>\n",
       "      <td id=\"T_dcc88_row0_col1\" class=\"data row0 col1\" >11062.8913</td>\n",
       "      <td id=\"T_dcc88_row0_col2\" class=\"data row0 col2\" >1.3009</td>\n",
       "      <td id=\"T_dcc88_row0_col3\" class=\"data row0 col3\" >0</td>\n",
       "      <td id=\"T_dcc88_row0_col4\" class=\"data row0 col4\" >0</td>\n",
       "      <td id=\"T_dcc88_row0_col5\" class=\"data row0 col5\" >0</td>\n",
       "    </tr>\n",
       "  </tbody>\n",
       "</table>\n"
      ],
      "text/plain": [
       "<pandas.io.formats.style.Styler at 0x33fc3eb10>"
      ]
     },
     "metadata": {},
     "output_type": "display_data"
    },
    {
     "data": {
      "text/html": [],
      "text/plain": [
       "<IPython.core.display.HTML object>"
      ]
     },
     "metadata": {},
     "output_type": "display_data"
    },
    {
     "data": {
      "text/html": [],
      "text/plain": [
       "<IPython.core.display.HTML object>"
      ]
     },
     "metadata": {},
     "output_type": "display_data"
    },
    {
     "data": {
      "text/html": [
       "<style type=\"text/css\">\n",
       "</style>\n",
       "<table id=\"T_2b13a\">\n",
       "  <thead>\n",
       "    <tr>\n",
       "      <th class=\"blank level0\" >&nbsp;</th>\n",
       "      <th id=\"T_2b13a_level0_col0\" class=\"col_heading level0 col0\" >Silhouette</th>\n",
       "      <th id=\"T_2b13a_level0_col1\" class=\"col_heading level0 col1\" >Calinski-Harabasz</th>\n",
       "      <th id=\"T_2b13a_level0_col2\" class=\"col_heading level0 col2\" >Davies-Bouldin</th>\n",
       "      <th id=\"T_2b13a_level0_col3\" class=\"col_heading level0 col3\" >Homogeneity</th>\n",
       "      <th id=\"T_2b13a_level0_col4\" class=\"col_heading level0 col4\" >Rand Index</th>\n",
       "      <th id=\"T_2b13a_level0_col5\" class=\"col_heading level0 col5\" >Completeness</th>\n",
       "    </tr>\n",
       "  </thead>\n",
       "  <tbody>\n",
       "    <tr>\n",
       "      <th id=\"T_2b13a_level0_row0\" class=\"row_heading level0 row0\" >0</th>\n",
       "      <td id=\"T_2b13a_row0_col0\" class=\"data row0 col0\" >0.2289</td>\n",
       "      <td id=\"T_2b13a_row0_col1\" class=\"data row0 col1\" >10460.6908</td>\n",
       "      <td id=\"T_2b13a_row0_col2\" class=\"data row0 col2\" >1.3479</td>\n",
       "      <td id=\"T_2b13a_row0_col3\" class=\"data row0 col3\" >0</td>\n",
       "      <td id=\"T_2b13a_row0_col4\" class=\"data row0 col4\" >0</td>\n",
       "      <td id=\"T_2b13a_row0_col5\" class=\"data row0 col5\" >0</td>\n",
       "    </tr>\n",
       "  </tbody>\n",
       "</table>\n"
      ],
      "text/plain": [
       "<pandas.io.formats.style.Styler at 0x354b495d0>"
      ]
     },
     "metadata": {},
     "output_type": "display_data"
    },
    {
     "data": {
      "text/html": [],
      "text/plain": [
       "<IPython.core.display.HTML object>"
      ]
     },
     "metadata": {},
     "output_type": "display_data"
    },
    {
     "data": {
      "text/html": [],
      "text/plain": [
       "<IPython.core.display.HTML object>"
      ]
     },
     "metadata": {},
     "output_type": "display_data"
    },
    {
     "data": {
      "text/html": [
       "<style type=\"text/css\">\n",
       "</style>\n",
       "<table id=\"T_0c399\">\n",
       "  <thead>\n",
       "    <tr>\n",
       "      <th class=\"blank level0\" >&nbsp;</th>\n",
       "      <th id=\"T_0c399_level0_col0\" class=\"col_heading level0 col0\" >Silhouette</th>\n",
       "      <th id=\"T_0c399_level0_col1\" class=\"col_heading level0 col1\" >Calinski-Harabasz</th>\n",
       "      <th id=\"T_0c399_level0_col2\" class=\"col_heading level0 col2\" >Davies-Bouldin</th>\n",
       "      <th id=\"T_0c399_level0_col3\" class=\"col_heading level0 col3\" >Homogeneity</th>\n",
       "      <th id=\"T_0c399_level0_col4\" class=\"col_heading level0 col4\" >Rand Index</th>\n",
       "      <th id=\"T_0c399_level0_col5\" class=\"col_heading level0 col5\" >Completeness</th>\n",
       "    </tr>\n",
       "  </thead>\n",
       "  <tbody>\n",
       "    <tr>\n",
       "      <th id=\"T_0c399_level0_row0\" class=\"row_heading level0 row0\" >0</th>\n",
       "      <td id=\"T_0c399_row0_col0\" class=\"data row0 col0\" >0.2290</td>\n",
       "      <td id=\"T_0c399_row0_col1\" class=\"data row0 col1\" >9814.7549</td>\n",
       "      <td id=\"T_0c399_row0_col2\" class=\"data row0 col2\" >1.3695</td>\n",
       "      <td id=\"T_0c399_row0_col3\" class=\"data row0 col3\" >0</td>\n",
       "      <td id=\"T_0c399_row0_col4\" class=\"data row0 col4\" >0</td>\n",
       "      <td id=\"T_0c399_row0_col5\" class=\"data row0 col5\" >0</td>\n",
       "    </tr>\n",
       "  </tbody>\n",
       "</table>\n"
      ],
      "text/plain": [
       "<pandas.io.formats.style.Styler at 0x354b1ee10>"
      ]
     },
     "metadata": {},
     "output_type": "display_data"
    },
    {
     "data": {
      "text/html": [],
      "text/plain": [
       "<IPython.core.display.HTML object>"
      ]
     },
     "metadata": {},
     "output_type": "display_data"
    },
    {
     "data": {
      "text/html": [],
      "text/plain": [
       "<IPython.core.display.HTML object>"
      ]
     },
     "metadata": {},
     "output_type": "display_data"
    },
    {
     "data": {
      "text/html": [
       "<style type=\"text/css\">\n",
       "</style>\n",
       "<table id=\"T_bab62\">\n",
       "  <thead>\n",
       "    <tr>\n",
       "      <th class=\"blank level0\" >&nbsp;</th>\n",
       "      <th id=\"T_bab62_level0_col0\" class=\"col_heading level0 col0\" >Silhouette</th>\n",
       "      <th id=\"T_bab62_level0_col1\" class=\"col_heading level0 col1\" >Calinski-Harabasz</th>\n",
       "      <th id=\"T_bab62_level0_col2\" class=\"col_heading level0 col2\" >Davies-Bouldin</th>\n",
       "      <th id=\"T_bab62_level0_col3\" class=\"col_heading level0 col3\" >Homogeneity</th>\n",
       "      <th id=\"T_bab62_level0_col4\" class=\"col_heading level0 col4\" >Rand Index</th>\n",
       "      <th id=\"T_bab62_level0_col5\" class=\"col_heading level0 col5\" >Completeness</th>\n",
       "    </tr>\n",
       "  </thead>\n",
       "  <tbody>\n",
       "    <tr>\n",
       "      <th id=\"T_bab62_level0_row0\" class=\"row_heading level0 row0\" >0</th>\n",
       "      <td id=\"T_bab62_row0_col0\" class=\"data row0 col0\" >0.2121</td>\n",
       "      <td id=\"T_bab62_row0_col1\" class=\"data row0 col1\" >9440.4992</td>\n",
       "      <td id=\"T_bab62_row0_col2\" class=\"data row0 col2\" >1.3936</td>\n",
       "      <td id=\"T_bab62_row0_col3\" class=\"data row0 col3\" >0</td>\n",
       "      <td id=\"T_bab62_row0_col4\" class=\"data row0 col4\" >0</td>\n",
       "      <td id=\"T_bab62_row0_col5\" class=\"data row0 col5\" >0</td>\n",
       "    </tr>\n",
       "  </tbody>\n",
       "</table>\n"
      ],
      "text/plain": [
       "<pandas.io.formats.style.Styler at 0x354bb8050>"
      ]
     },
     "metadata": {},
     "output_type": "display_data"
    },
    {
     "data": {
      "text/html": [],
      "text/plain": [
       "<IPython.core.display.HTML object>"
      ]
     },
     "metadata": {},
     "output_type": "display_data"
    },
    {
     "data": {
      "text/html": [],
      "text/plain": [
       "<IPython.core.display.HTML object>"
      ]
     },
     "metadata": {},
     "output_type": "display_data"
    },
    {
     "data": {
      "text/html": [
       "<style type=\"text/css\">\n",
       "</style>\n",
       "<table id=\"T_501e0\">\n",
       "  <thead>\n",
       "    <tr>\n",
       "      <th class=\"blank level0\" >&nbsp;</th>\n",
       "      <th id=\"T_501e0_level0_col0\" class=\"col_heading level0 col0\" >Silhouette</th>\n",
       "      <th id=\"T_501e0_level0_col1\" class=\"col_heading level0 col1\" >Calinski-Harabasz</th>\n",
       "      <th id=\"T_501e0_level0_col2\" class=\"col_heading level0 col2\" >Davies-Bouldin</th>\n",
       "      <th id=\"T_501e0_level0_col3\" class=\"col_heading level0 col3\" >Homogeneity</th>\n",
       "      <th id=\"T_501e0_level0_col4\" class=\"col_heading level0 col4\" >Rand Index</th>\n",
       "      <th id=\"T_501e0_level0_col5\" class=\"col_heading level0 col5\" >Completeness</th>\n",
       "    </tr>\n",
       "  </thead>\n",
       "  <tbody>\n",
       "    <tr>\n",
       "      <th id=\"T_501e0_level0_row0\" class=\"row_heading level0 row0\" >0</th>\n",
       "      <td id=\"T_501e0_row0_col0\" class=\"data row0 col0\" >0.2097</td>\n",
       "      <td id=\"T_501e0_row0_col1\" class=\"data row0 col1\" >9030.3143</td>\n",
       "      <td id=\"T_501e0_row0_col2\" class=\"data row0 col2\" >1.3862</td>\n",
       "      <td id=\"T_501e0_row0_col3\" class=\"data row0 col3\" >0</td>\n",
       "      <td id=\"T_501e0_row0_col4\" class=\"data row0 col4\" >0</td>\n",
       "      <td id=\"T_501e0_row0_col5\" class=\"data row0 col5\" >0</td>\n",
       "    </tr>\n",
       "  </tbody>\n",
       "</table>\n"
      ],
      "text/plain": [
       "<pandas.io.formats.style.Styler at 0x3446ff790>"
      ]
     },
     "metadata": {},
     "output_type": "display_data"
    },
    {
     "data": {
      "text/html": [],
      "text/plain": [
       "<IPython.core.display.HTML object>"
      ]
     },
     "metadata": {},
     "output_type": "display_data"
    },
    {
     "name": "stdout",
     "output_type": "stream",
     "text": [
      "    Number of Clusters  Training Time (Sec)\n",
      "0                    2            14.989398\n",
      "1                    3            14.350120\n",
      "2                    4            13.215177\n",
      "3                    5            13.268040\n",
      "4                    6            12.828288\n",
      "5                    7            12.632384\n",
      "6                    8            12.833290\n",
      "7                    9            12.682597\n",
      "8                   10            12.659746\n",
      "9                   11            12.518460\n",
      "10                  12            12.413895\n",
      "11                  13            12.384361\n",
      "12                  14            12.098143\n"
     ]
    },
    {
     "data": {
      "image/png": "[encoded data removed]",
      "text/plain": [
       "<Figure size 1000x600 with 1 Axes>"
      ]
     },
     "metadata": {},
     "output_type": "display_data"
    }
   ],
   "source": [
    "# Combine the images into a multi-band image\n",
    "subset_imgs = [blendDEM, blendSLOPE, ctxDEM, ctxIMG, ctxSLOPE, hrscND, hrscP1, hrscP2, hrscS1, hrscS2]\n",
    "multi_band_image = np.stack([img.values[0] for img in subset_imgs], axis=-1)\n",
    "\n",
    "# Flatten the multi-band image into a 2D array where each row represents a pixel and each column represents a band\n",
    "pixels = multi_band_image.reshape(-1, multi_band_image.shape[-1])\n",
    "\n",
    "# Convert to a DataFrame\n",
    "df = pd.DataFrame(pixels, columns=[f'band_{i+1}' for i in range(multi_band_image.shape[-1])])\n",
    "subset_size = 40000  # Adjust this size based on the desired subset size\n",
    "df_subset = df.sample(n=subset_size, random_state=0)\n",
    "\n",
    "# Initialize the PyCaret environment for clustering\n",
    "clustering_setup = setup(data=df_subset)\n",
    "\n",
    "# List to store results\n",
    "results = []\n",
    "\n",
    "# List of number of clusters to test\n",
    "num_clusters_list = [2, 3, 4, 5, 6, 7, 8, 9, 10, 11, 12, 13, 14]\n",
    "\n",
    "for num_clusters in num_clusters_list:\n",
    "    # Measure training time\n",
    "    start_time = time.time()\n",
    "    kmeans_model = create_model('kmeans', num_clusters=num_clusters)\n",
    "    end_time = time.time()\n",
    "    training_time = end_time - start_time\n",
    "    \n",
    "    # Evaluate the K-Means model\n",
    "    # evaluate_model(kmeans_model)\n",
    "    \n",
    "    # Store the results\n",
    "    results.append({'Number of Clusters': num_clusters, 'Training Time (Sec)': training_time})\n",
    "\n",
    "# Convert results to a DataFrame\n",
    "results_df = pd.DataFrame(results)\n",
    "\n",
    "# Print the results\n",
    "print(results_df)\n",
    "\n",
    "# Create a scatter plot for training time vs. number of clusters\n",
    "plt.figure(figsize=(10, 6))\n",
    "plt.scatter(results_df['Number of Clusters'], results_df['Training Time (Sec)'], color='blue', s=100)\n",
    "\n",
    "# Annotate the points with the number of clusters\n",
    "for i, num_clusters in enumerate(results_df['Number of Clusters']):\n",
    "    plt.annotate(num_clusters, (results_df['Number of Clusters'][i], results_df['Training Time (Sec)'][i]), fontsize=12)\n",
    "\n",
    "plt.xlabel('Number of Clusters')\n",
    "plt.ylabel('Training Time (Seconds)')\n",
    "plt.title('Training Time vs. Number of Clusters for K-Means')\n",
    "plt.grid(True)\n",
    "plt.show()"
   ]
  },
  {
   "cell_type": "markdown",
   "metadata": {},
   "source": [
    "It looks like after 6 clusters, training time is very similar which is great considering 6-12 is the range we are targeting. This training was done with PyCaret with a subset of our data, but full trainings have already been done locally with sci-kit learn with the entire dataset. This indicates that time won't be an issue moving forward."
   ]
  },
  {
   "cell_type": "markdown",
   "metadata": {},
   "source": [
    "# Time analysis for reinforcement learning\n",
    "\n",
    "First, downsample the image so training can be done at a reasonable speed."
   ]
  },
  {
   "cell_type": "code",
   "execution_count": null,
   "metadata": {},
   "outputs": [],
   "source": [
    "# Downsample factor\n",
    "downsample_factor = 0.1  # Adjust this factor based on the desired downsampling\n",
    "\n",
    "# Function to downsample an image\n",
    "def downsample_image(image, factor):\n",
    "    return rescale(image.values[0], factor, anti_aliasing=True)\n",
    "\n",
    "# Function to downsample a label map while maintaining discrete values\n",
    "def downsample_label_map(label_map, factor):\n",
    "    block_size = int(1 / factor)\n",
    "    downsampled = downscale_local_mean(label_map.values[0], (block_size, block_size))\n",
    "    return np.round(downsampled).astype(label_map.values.dtype)\n",
    "\n",
    "# Downsample the images\n",
    "subset_imgs = [blendDEM, blendSLOPE, ctxDEM, ctxIMG, ctxSLOPE, hrscND, hrscP1, hrscP2, hrscS1, hrscS2]\n",
    "downsampled_imgs = [downsample_image(img, downsample_factor) for img in subset_imgs]\n",
    "\n",
    "# Downsample the label map\n",
    "downsampled_label_map = downsample_label_map(label_map, downsample_factor)\n",
    "\n",
    "# Ensure the dimensions match by trimming the larger dimension\n",
    "min_shape = (min(downsampled_label_map.shape[0], downsampled_imgs[0].shape[0]),\n",
    "             min(downsampled_label_map.shape[1], downsampled_imgs[0].shape[1]))\n",
    "\n",
    "downsampled_label_map = downsampled_label_map[:min_shape[0], :min_shape[1]]\n",
    "downsampled_imgs = [img[:min_shape[0], :min_shape[1]] for img in downsampled_imgs]\n",
    "\n",
    "# Combine the downsampled images into a multi-band image\n",
    "downsampled_multi_band_image = np.stack(downsampled_imgs, axis=-1)\n",
    "\n",
    "# Convert the downsampled images and label map back to xarray DataArray\n",
    "# downsampled_imgs_xr = [rxr.DataArray(img, dims=(\"y\", \"x\")) for img in downsampled_imgs]\n",
    "# downsampled_label_map_xr = rxr.DataArray(downsampled_label_map, dims=(\"y\", \"x\"))\n",
    "\n",
    "print(\"Dimensions of downsampled_label_map:\", downsampled_label_map.shape, downsampled_label_map.size)\n",
    "print(\"Dimensions of downsampled_multi_band_image:\", downsampled_multi_band_image.shape, downsampled_multi_band_image.size)\n",
    "\n",
    "# Flatten the multi-band image into a 2D array where each row represents a pixel and each column represents a band\n",
    "pixels = downsampled_multi_band_image.reshape(-1, downsampled_multi_band_image.shape[-1])\n",
    "labels = downsampled_label_map.ravel()\n",
    "\n",
    "# Convert to a DataFrame\n",
    "df = pd.DataFrame(pixels, columns=[f'band_{i+1}' for i in range(downsampled_multi_band_image.shape[-1])])\n",
    "df['label'] = labels\n",
    "\n",
    "# Remove pixels with no label (assuming no label is represented by a specific value, e.g., -1)\n",
    "# df = df[df['label'] != -1]\n",
    "\n",
    "# Split the data into training and testing sets\n",
    "X = df.drop(columns=['label'])\n",
    "y = df['label']\n",
    "X_train, X_test, y_train, y_test = train_test_split(X, y, test_size=0.3, random_state=42)\n",
    "\n",
    "# Dictionary to store accuracy results\n",
    "accuracy_results = {}"
   ]
  },
  {
   "cell_type": "markdown",
   "metadata": {},
   "source": [
    "Try a range of different training models with PyCaret"
   ]
  },
  {
   "cell_type": "code",
   "execution_count": 4,
   "metadata": {},
   "outputs": [
    {
     "data": {
      "text/html": [
       "<style type=\"text/css\">\n",
       "#T_0a273_row8_col1 {\n",
       "  background-color: lightgreen;\n",
       "}\n",
       "</style>\n",
       "<table id=\"T_0a273\">\n",
       "  <thead>\n",
       "    <tr>\n",
       "      <th class=\"blank level0\" >&nbsp;</th>\n",
       "      <th id=\"T_0a273_level0_col0\" class=\"col_heading level0 col0\" >Description</th>\n",
       "      <th id=\"T_0a273_level0_col1\" class=\"col_heading level0 col1\" >Value</th>\n",
       "    </tr>\n",
       "  </thead>\n",
       "  <tbody>\n",
       "    <tr>\n",
       "      <th id=\"T_0a273_level0_row0\" class=\"row_heading level0 row0\" >0</th>\n",
       "      <td id=\"T_0a273_row0_col0\" class=\"data row0 col0\" >Session id</td>\n",
       "      <td id=\"T_0a273_row0_col1\" class=\"data row0 col1\" >4289</td>\n",
       "    </tr>\n",
       "    <tr>\n",
       "      <th id=\"T_0a273_level0_row1\" class=\"row_heading level0 row1\" >1</th>\n",
       "      <td id=\"T_0a273_row1_col0\" class=\"data row1 col0\" >Target</td>\n",
       "      <td id=\"T_0a273_row1_col1\" class=\"data row1 col1\" >label</td>\n",
       "    </tr>\n",
       "    <tr>\n",
       "      <th id=\"T_0a273_level0_row2\" class=\"row_heading level0 row2\" >2</th>\n",
       "      <td id=\"T_0a273_row2_col0\" class=\"data row2 col0\" >Target type</td>\n",
       "      <td id=\"T_0a273_row2_col1\" class=\"data row2 col1\" >Multiclass</td>\n",
       "    </tr>\n",
       "    <tr>\n",
       "      <th id=\"T_0a273_level0_row3\" class=\"row_heading level0 row3\" >3</th>\n",
       "      <td id=\"T_0a273_row3_col0\" class=\"data row3 col0\" >Original data shape</td>\n",
       "      <td id=\"T_0a273_row3_col1\" class=\"data row3 col1\" >(87535, 11)</td>\n",
       "    </tr>\n",
       "    <tr>\n",
       "      <th id=\"T_0a273_level0_row4\" class=\"row_heading level0 row4\" >4</th>\n",
       "      <td id=\"T_0a273_row4_col0\" class=\"data row4 col0\" >Transformed data shape</td>\n",
       "      <td id=\"T_0a273_row4_col1\" class=\"data row4 col1\" >(87535, 11)</td>\n",
       "    </tr>\n",
       "    <tr>\n",
       "      <th id=\"T_0a273_level0_row5\" class=\"row_heading level0 row5\" >5</th>\n",
       "      <td id=\"T_0a273_row5_col0\" class=\"data row5 col0\" >Transformed train set shape</td>\n",
       "      <td id=\"T_0a273_row5_col1\" class=\"data row5 col1\" >(61274, 11)</td>\n",
       "    </tr>\n",
       "    <tr>\n",
       "      <th id=\"T_0a273_level0_row6\" class=\"row_heading level0 row6\" >6</th>\n",
       "      <td id=\"T_0a273_row6_col0\" class=\"data row6 col0\" >Transformed test set shape</td>\n",
       "      <td id=\"T_0a273_row6_col1\" class=\"data row6 col1\" >(26261, 11)</td>\n",
       "    </tr>\n",
       "    <tr>\n",
       "      <th id=\"T_0a273_level0_row7\" class=\"row_heading level0 row7\" >7</th>\n",
       "      <td id=\"T_0a273_row7_col0\" class=\"data row7 col0\" >Numeric features</td>\n",
       "      <td id=\"T_0a273_row7_col1\" class=\"data row7 col1\" >10</td>\n",
       "    </tr>\n",
       "    <tr>\n",
       "      <th id=\"T_0a273_level0_row8\" class=\"row_heading level0 row8\" >8</th>\n",
       "      <td id=\"T_0a273_row8_col0\" class=\"data row8 col0\" >Preprocess</td>\n",
       "      <td id=\"T_0a273_row8_col1\" class=\"data row8 col1\" >True</td>\n",
       "    </tr>\n",
       "    <tr>\n",
       "      <th id=\"T_0a273_level0_row9\" class=\"row_heading level0 row9\" >9</th>\n",
       "      <td id=\"T_0a273_row9_col0\" class=\"data row9 col0\" >Imputation type</td>\n",
       "      <td id=\"T_0a273_row9_col1\" class=\"data row9 col1\" >simple</td>\n",
       "    </tr>\n",
       "    <tr>\n",
       "      <th id=\"T_0a273_level0_row10\" class=\"row_heading level0 row10\" >10</th>\n",
       "      <td id=\"T_0a273_row10_col0\" class=\"data row10 col0\" >Numeric imputation</td>\n",
       "      <td id=\"T_0a273_row10_col1\" class=\"data row10 col1\" >mean</td>\n",
       "    </tr>\n",
       "    <tr>\n",
       "      <th id=\"T_0a273_level0_row11\" class=\"row_heading level0 row11\" >11</th>\n",
       "      <td id=\"T_0a273_row11_col0\" class=\"data row11 col0\" >Categorical imputation</td>\n",
       "      <td id=\"T_0a273_row11_col1\" class=\"data row11 col1\" >mode</td>\n",
       "    </tr>\n",
       "    <tr>\n",
       "      <th id=\"T_0a273_level0_row12\" class=\"row_heading level0 row12\" >12</th>\n",
       "      <td id=\"T_0a273_row12_col0\" class=\"data row12 col0\" >Fold Generator</td>\n",
       "      <td id=\"T_0a273_row12_col1\" class=\"data row12 col1\" >StratifiedKFold</td>\n",
       "    </tr>\n",
       "    <tr>\n",
       "      <th id=\"T_0a273_level0_row13\" class=\"row_heading level0 row13\" >13</th>\n",
       "      <td id=\"T_0a273_row13_col0\" class=\"data row13 col0\" >Fold Number</td>\n",
       "      <td id=\"T_0a273_row13_col1\" class=\"data row13 col1\" >10</td>\n",
       "    </tr>\n",
       "    <tr>\n",
       "      <th id=\"T_0a273_level0_row14\" class=\"row_heading level0 row14\" >14</th>\n",
       "      <td id=\"T_0a273_row14_col0\" class=\"data row14 col0\" >CPU Jobs</td>\n",
       "      <td id=\"T_0a273_row14_col1\" class=\"data row14 col1\" >-1</td>\n",
       "    </tr>\n",
       "    <tr>\n",
       "      <th id=\"T_0a273_level0_row15\" class=\"row_heading level0 row15\" >15</th>\n",
       "      <td id=\"T_0a273_row15_col0\" class=\"data row15 col0\" >Use GPU</td>\n",
       "      <td id=\"T_0a273_row15_col1\" class=\"data row15 col1\" >False</td>\n",
       "    </tr>\n",
       "    <tr>\n",
       "      <th id=\"T_0a273_level0_row16\" class=\"row_heading level0 row16\" >16</th>\n",
       "      <td id=\"T_0a273_row16_col0\" class=\"data row16 col0\" >Log Experiment</td>\n",
       "      <td id=\"T_0a273_row16_col1\" class=\"data row16 col1\" >False</td>\n",
       "    </tr>\n",
       "    <tr>\n",
       "      <th id=\"T_0a273_level0_row17\" class=\"row_heading level0 row17\" >17</th>\n",
       "      <td id=\"T_0a273_row17_col0\" class=\"data row17 col0\" >Experiment Name</td>\n",
       "      <td id=\"T_0a273_row17_col1\" class=\"data row17 col1\" >clf-default-name</td>\n",
       "    </tr>\n",
       "    <tr>\n",
       "      <th id=\"T_0a273_level0_row18\" class=\"row_heading level0 row18\" >18</th>\n",
       "      <td id=\"T_0a273_row18_col0\" class=\"data row18 col0\" >USI</td>\n",
       "      <td id=\"T_0a273_row18_col1\" class=\"data row18 col1\" >6161</td>\n",
       "    </tr>\n",
       "  </tbody>\n",
       "</table>\n"
      ],
      "text/plain": [
       "<pandas.io.formats.style.Styler at 0x32064ec90>"
      ]
     },
     "metadata": {},
     "output_type": "display_data"
    },
    {
     "data": {
      "text/html": [],
      "text/plain": [
       "<IPython.core.display.HTML object>"
      ]
     },
     "metadata": {},
     "output_type": "display_data"
    },
    {
     "data": {
      "text/html": [
       "<style type=\"text/css\">\n",
       "#T_5c2bd th {\n",
       "  text-align: left;\n",
       "}\n",
       "#T_5c2bd_row0_col0, #T_5c2bd_row1_col0, #T_5c2bd_row1_col1, #T_5c2bd_row1_col2, #T_5c2bd_row1_col3, #T_5c2bd_row1_col4, #T_5c2bd_row1_col5, #T_5c2bd_row1_col6, #T_5c2bd_row1_col7, #T_5c2bd_row2_col0, #T_5c2bd_row2_col1, #T_5c2bd_row2_col2, #T_5c2bd_row2_col3, #T_5c2bd_row2_col4, #T_5c2bd_row2_col5, #T_5c2bd_row2_col6, #T_5c2bd_row2_col7, #T_5c2bd_row3_col0, #T_5c2bd_row3_col1, #T_5c2bd_row3_col2, #T_5c2bd_row3_col3, #T_5c2bd_row3_col4, #T_5c2bd_row3_col5, #T_5c2bd_row3_col6, #T_5c2bd_row3_col7, #T_5c2bd_row4_col0, #T_5c2bd_row4_col1, #T_5c2bd_row4_col2, #T_5c2bd_row4_col3, #T_5c2bd_row4_col4, #T_5c2bd_row4_col5, #T_5c2bd_row4_col6, #T_5c2bd_row4_col7, #T_5c2bd_row5_col0, #T_5c2bd_row5_col1, #T_5c2bd_row5_col2, #T_5c2bd_row5_col3, #T_5c2bd_row5_col4, #T_5c2bd_row5_col5, #T_5c2bd_row5_col6, #T_5c2bd_row5_col7, #T_5c2bd_row6_col0, #T_5c2bd_row6_col1, #T_5c2bd_row6_col2, #T_5c2bd_row6_col3, #T_5c2bd_row6_col4, #T_5c2bd_row6_col5, #T_5c2bd_row6_col6, #T_5c2bd_row6_col7, #T_5c2bd_row7_col0, #T_5c2bd_row7_col1, #T_5c2bd_row7_col2, #T_5c2bd_row7_col3, #T_5c2bd_row7_col4, #T_5c2bd_row7_col5, #T_5c2bd_row7_col6, #T_5c2bd_row7_col7, #T_5c2bd_row8_col0, #T_5c2bd_row8_col1, #T_5c2bd_row8_col2, #T_5c2bd_row8_col3, #T_5c2bd_row8_col4, #T_5c2bd_row8_col5, #T_5c2bd_row8_col6, #T_5c2bd_row8_col7, #T_5c2bd_row9_col0, #T_5c2bd_row9_col1, #T_5c2bd_row9_col2, #T_5c2bd_row9_col3, #T_5c2bd_row9_col4, #T_5c2bd_row9_col5, #T_5c2bd_row9_col6, #T_5c2bd_row9_col7, #T_5c2bd_row10_col0, #T_5c2bd_row10_col1, #T_5c2bd_row10_col2, #T_5c2bd_row10_col3, #T_5c2bd_row10_col4, #T_5c2bd_row10_col5, #T_5c2bd_row10_col6, #T_5c2bd_row10_col7, #T_5c2bd_row11_col0, #T_5c2bd_row11_col1, #T_5c2bd_row11_col2, #T_5c2bd_row11_col3, #T_5c2bd_row11_col4, #T_5c2bd_row11_col5, #T_5c2bd_row11_col6, #T_5c2bd_row11_col7, #T_5c2bd_row12_col0, #T_5c2bd_row12_col1, #T_5c2bd_row12_col2, #T_5c2bd_row12_col3, #T_5c2bd_row12_col4, #T_5c2bd_row12_col5, #T_5c2bd_row12_col6, #T_5c2bd_row12_col7, #T_5c2bd_row13_col0, #T_5c2bd_row13_col1, #T_5c2bd_row13_col2, #T_5c2bd_row13_col3, #T_5c2bd_row13_col4, #T_5c2bd_row13_col5, #T_5c2bd_row13_col6, #T_5c2bd_row13_col7 {\n",
       "  text-align: left;\n",
       "}\n",
       "#T_5c2bd_row0_col1, #T_5c2bd_row0_col2, #T_5c2bd_row0_col3, #T_5c2bd_row0_col4, #T_5c2bd_row0_col5, #T_5c2bd_row0_col6, #T_5c2bd_row0_col7 {\n",
       "  text-align: left;\n",
       "  background-color: yellow;\n",
       "}\n",
       "#T_5c2bd_row0_col8, #T_5c2bd_row1_col8, #T_5c2bd_row2_col8, #T_5c2bd_row3_col8, #T_5c2bd_row4_col8, #T_5c2bd_row5_col8, #T_5c2bd_row6_col8, #T_5c2bd_row7_col8, #T_5c2bd_row8_col8, #T_5c2bd_row9_col8, #T_5c2bd_row10_col8, #T_5c2bd_row11_col8, #T_5c2bd_row12_col8 {\n",
       "  text-align: left;\n",
       "  background-color: lightgrey;\n",
       "}\n",
       "#T_5c2bd_row13_col8 {\n",
       "  text-align: left;\n",
       "  background-color: yellow;\n",
       "  background-color: lightgrey;\n",
       "}\n",
       "</style>\n",
       "<table id=\"T_5c2bd\">\n",
       "  <thead>\n",
       "    <tr>\n",
       "      <th class=\"blank level0\" >&nbsp;</th>\n",
       "      <th id=\"T_5c2bd_level0_col0\" class=\"col_heading level0 col0\" >Model</th>\n",
       "      <th id=\"T_5c2bd_level0_col1\" class=\"col_heading level0 col1\" >Accuracy</th>\n",
       "      <th id=\"T_5c2bd_level0_col2\" class=\"col_heading level0 col2\" >AUC</th>\n",
       "      <th id=\"T_5c2bd_level0_col3\" class=\"col_heading level0 col3\" >Recall</th>\n",
       "      <th id=\"T_5c2bd_level0_col4\" class=\"col_heading level0 col4\" >Prec.</th>\n",
       "      <th id=\"T_5c2bd_level0_col5\" class=\"col_heading level0 col5\" >F1</th>\n",
       "      <th id=\"T_5c2bd_level0_col6\" class=\"col_heading level0 col6\" >Kappa</th>\n",
       "      <th id=\"T_5c2bd_level0_col7\" class=\"col_heading level0 col7\" >MCC</th>\n",
       "      <th id=\"T_5c2bd_level0_col8\" class=\"col_heading level0 col8\" >TT (Sec)</th>\n",
       "    </tr>\n",
       "  </thead>\n",
       "  <tbody>\n",
       "    <tr>\n",
       "      <th id=\"T_5c2bd_level0_row0\" class=\"row_heading level0 row0\" >et</th>\n",
       "      <td id=\"T_5c2bd_row0_col0\" class=\"data row0 col0\" >Extra Trees Classifier</td>\n",
       "      <td id=\"T_5c2bd_row0_col1\" class=\"data row0 col1\" >0.8323</td>\n",
       "      <td id=\"T_5c2bd_row0_col2\" class=\"data row0 col2\" >0.9679</td>\n",
       "      <td id=\"T_5c2bd_row0_col3\" class=\"data row0 col3\" >0.8323</td>\n",
       "      <td id=\"T_5c2bd_row0_col4\" class=\"data row0 col4\" >0.8319</td>\n",
       "      <td id=\"T_5c2bd_row0_col5\" class=\"data row0 col5\" >0.8291</td>\n",
       "      <td id=\"T_5c2bd_row0_col6\" class=\"data row0 col6\" >0.7533</td>\n",
       "      <td id=\"T_5c2bd_row0_col7\" class=\"data row0 col7\" >0.7541</td>\n",
       "      <td id=\"T_5c2bd_row0_col8\" class=\"data row0 col8\" >0.6000</td>\n",
       "    </tr>\n",
       "    <tr>\n",
       "      <th id=\"T_5c2bd_level0_row1\" class=\"row_heading level0 row1\" >rf</th>\n",
       "      <td id=\"T_5c2bd_row1_col0\" class=\"data row1 col0\" >Random Forest Classifier</td>\n",
       "      <td id=\"T_5c2bd_row1_col1\" class=\"data row1 col1\" >0.8260</td>\n",
       "      <td id=\"T_5c2bd_row1_col2\" class=\"data row1 col2\" >0.9663</td>\n",
       "      <td id=\"T_5c2bd_row1_col3\" class=\"data row1 col3\" >0.8260</td>\n",
       "      <td id=\"T_5c2bd_row1_col4\" class=\"data row1 col4\" >0.8250</td>\n",
       "      <td id=\"T_5c2bd_row1_col5\" class=\"data row1 col5\" >0.8230</td>\n",
       "      <td id=\"T_5c2bd_row1_col6\" class=\"data row1 col6\" >0.7443</td>\n",
       "      <td id=\"T_5c2bd_row1_col7\" class=\"data row1 col7\" >0.7449</td>\n",
       "      <td id=\"T_5c2bd_row1_col8\" class=\"data row1 col8\" >1.8910</td>\n",
       "    </tr>\n",
       "    <tr>\n",
       "      <th id=\"T_5c2bd_level0_row2\" class=\"row_heading level0 row2\" >lightgbm</th>\n",
       "      <td id=\"T_5c2bd_row2_col0\" class=\"data row2 col0\" >Light Gradient Boosting Machine</td>\n",
       "      <td id=\"T_5c2bd_row2_col1\" class=\"data row2 col1\" >0.7937</td>\n",
       "      <td id=\"T_5c2bd_row2_col2\" class=\"data row2 col2\" >0.9555</td>\n",
       "      <td id=\"T_5c2bd_row2_col3\" class=\"data row2 col3\" >0.7937</td>\n",
       "      <td id=\"T_5c2bd_row2_col4\" class=\"data row2 col4\" >0.7928</td>\n",
       "      <td id=\"T_5c2bd_row2_col5\" class=\"data row2 col5\" >0.7925</td>\n",
       "      <td id=\"T_5c2bd_row2_col6\" class=\"data row2 col6\" >0.6986</td>\n",
       "      <td id=\"T_5c2bd_row2_col7\" class=\"data row2 col7\" >0.6989</td>\n",
       "      <td id=\"T_5c2bd_row2_col8\" class=\"data row2 col8\" >3.5500</td>\n",
       "    </tr>\n",
       "    <tr>\n",
       "      <th id=\"T_5c2bd_level0_row3\" class=\"row_heading level0 row3\" >knn</th>\n",
       "      <td id=\"T_5c2bd_row3_col0\" class=\"data row3 col0\" >K Neighbors Classifier</td>\n",
       "      <td id=\"T_5c2bd_row3_col1\" class=\"data row3 col1\" >0.7709</td>\n",
       "      <td id=\"T_5c2bd_row3_col2\" class=\"data row3 col2\" >0.9295</td>\n",
       "      <td id=\"T_5c2bd_row3_col3\" class=\"data row3 col3\" >0.7709</td>\n",
       "      <td id=\"T_5c2bd_row3_col4\" class=\"data row3 col4\" >0.7671</td>\n",
       "      <td id=\"T_5c2bd_row3_col5\" class=\"data row3 col5\" >0.7668</td>\n",
       "      <td id=\"T_5c2bd_row3_col6\" class=\"data row3 col6\" >0.6624</td>\n",
       "      <td id=\"T_5c2bd_row3_col7\" class=\"data row3 col7\" >0.6630</td>\n",
       "      <td id=\"T_5c2bd_row3_col8\" class=\"data row3 col8\" >0.0750</td>\n",
       "    </tr>\n",
       "    <tr>\n",
       "      <th id=\"T_5c2bd_level0_row4\" class=\"row_heading level0 row4\" >dt</th>\n",
       "      <td id=\"T_5c2bd_row4_col0\" class=\"data row4 col0\" >Decision Tree Classifier</td>\n",
       "      <td id=\"T_5c2bd_row4_col1\" class=\"data row4 col1\" >0.7547</td>\n",
       "      <td id=\"T_5c2bd_row4_col2\" class=\"data row4 col2\" >0.8345</td>\n",
       "      <td id=\"T_5c2bd_row4_col3\" class=\"data row4 col3\" >0.7547</td>\n",
       "      <td id=\"T_5c2bd_row4_col4\" class=\"data row4 col4\" >0.7553</td>\n",
       "      <td id=\"T_5c2bd_row4_col5\" class=\"data row4 col5\" >0.7549</td>\n",
       "      <td id=\"T_5c2bd_row4_col6\" class=\"data row4 col6\" >0.6444</td>\n",
       "      <td id=\"T_5c2bd_row4_col7\" class=\"data row4 col7\" >0.6444</td>\n",
       "      <td id=\"T_5c2bd_row4_col8\" class=\"data row4 col8\" >0.1110</td>\n",
       "    </tr>\n",
       "    <tr>\n",
       "      <th id=\"T_5c2bd_level0_row5\" class=\"row_heading level0 row5\" >gbc</th>\n",
       "      <td id=\"T_5c2bd_row5_col0\" class=\"data row5 col0\" >Gradient Boosting Classifier</td>\n",
       "      <td id=\"T_5c2bd_row5_col1\" class=\"data row5 col1\" >0.7308</td>\n",
       "      <td id=\"T_5c2bd_row5_col2\" class=\"data row5 col2\" >0.0000</td>\n",
       "      <td id=\"T_5c2bd_row5_col3\" class=\"data row5 col3\" >0.7308</td>\n",
       "      <td id=\"T_5c2bd_row5_col4\" class=\"data row5 col4\" >0.7287</td>\n",
       "      <td id=\"T_5c2bd_row5_col5\" class=\"data row5 col5\" >0.7259</td>\n",
       "      <td id=\"T_5c2bd_row5_col6\" class=\"data row5 col6\" >0.6036</td>\n",
       "      <td id=\"T_5c2bd_row5_col7\" class=\"data row5 col7\" >0.6050</td>\n",
       "      <td id=\"T_5c2bd_row5_col8\" class=\"data row5 col8\" >14.4870</td>\n",
       "    </tr>\n",
       "    <tr>\n",
       "      <th id=\"T_5c2bd_level0_row6\" class=\"row_heading level0 row6\" >qda</th>\n",
       "      <td id=\"T_5c2bd_row6_col0\" class=\"data row6 col0\" >Quadratic Discriminant Analysis</td>\n",
       "      <td id=\"T_5c2bd_row6_col1\" class=\"data row6 col1\" >0.6482</td>\n",
       "      <td id=\"T_5c2bd_row6_col2\" class=\"data row6 col2\" >0.0000</td>\n",
       "      <td id=\"T_5c2bd_row6_col3\" class=\"data row6 col3\" >0.6482</td>\n",
       "      <td id=\"T_5c2bd_row6_col4\" class=\"data row6 col4\" >0.6757</td>\n",
       "      <td id=\"T_5c2bd_row6_col5\" class=\"data row6 col5\" >0.6572</td>\n",
       "      <td id=\"T_5c2bd_row6_col6\" class=\"data row6 col6\" >0.5063</td>\n",
       "      <td id=\"T_5c2bd_row6_col7\" class=\"data row6 col7\" >0.5092</td>\n",
       "      <td id=\"T_5c2bd_row6_col8\" class=\"data row6 col8\" >0.0160</td>\n",
       "    </tr>\n",
       "    <tr>\n",
       "      <th id=\"T_5c2bd_level0_row7\" class=\"row_heading level0 row7\" >nb</th>\n",
       "      <td id=\"T_5c2bd_row7_col0\" class=\"data row7 col0\" >Naive Bayes</td>\n",
       "      <td id=\"T_5c2bd_row7_col1\" class=\"data row7 col1\" >0.5916</td>\n",
       "      <td id=\"T_5c2bd_row7_col2\" class=\"data row7 col2\" >0.8577</td>\n",
       "      <td id=\"T_5c2bd_row7_col3\" class=\"data row7 col3\" >0.5916</td>\n",
       "      <td id=\"T_5c2bd_row7_col4\" class=\"data row7 col4\" >0.6434</td>\n",
       "      <td id=\"T_5c2bd_row7_col5\" class=\"data row7 col5\" >0.6097</td>\n",
       "      <td id=\"T_5c2bd_row7_col6\" class=\"data row7 col6\" >0.4370</td>\n",
       "      <td id=\"T_5c2bd_row7_col7\" class=\"data row7 col7\" >0.4414</td>\n",
       "      <td id=\"T_5c2bd_row7_col8\" class=\"data row7 col8\" >0.0140</td>\n",
       "    </tr>\n",
       "    <tr>\n",
       "      <th id=\"T_5c2bd_level0_row8\" class=\"row_heading level0 row8\" >lda</th>\n",
       "      <td id=\"T_5c2bd_row8_col0\" class=\"data row8 col0\" >Linear Discriminant Analysis</td>\n",
       "      <td id=\"T_5c2bd_row8_col1\" class=\"data row8 col1\" >0.5703</td>\n",
       "      <td id=\"T_5c2bd_row8_col2\" class=\"data row8 col2\" >0.0000</td>\n",
       "      <td id=\"T_5c2bd_row8_col3\" class=\"data row8 col3\" >0.5703</td>\n",
       "      <td id=\"T_5c2bd_row8_col4\" class=\"data row8 col4\" >0.5319</td>\n",
       "      <td id=\"T_5c2bd_row8_col5\" class=\"data row8 col5\" >0.5311</td>\n",
       "      <td id=\"T_5c2bd_row8_col6\" class=\"data row8 col6\" >0.3263</td>\n",
       "      <td id=\"T_5c2bd_row8_col7\" class=\"data row8 col7\" >0.3383</td>\n",
       "      <td id=\"T_5c2bd_row8_col8\" class=\"data row8 col8\" >0.0150</td>\n",
       "    </tr>\n",
       "    <tr>\n",
       "      <th id=\"T_5c2bd_level0_row9\" class=\"row_heading level0 row9\" >lr</th>\n",
       "      <td id=\"T_5c2bd_row9_col0\" class=\"data row9 col0\" >Logistic Regression</td>\n",
       "      <td id=\"T_5c2bd_row9_col1\" class=\"data row9 col1\" >0.5678</td>\n",
       "      <td id=\"T_5c2bd_row9_col2\" class=\"data row9 col2\" >0.0000</td>\n",
       "      <td id=\"T_5c2bd_row9_col3\" class=\"data row9 col3\" >0.5678</td>\n",
       "      <td id=\"T_5c2bd_row9_col4\" class=\"data row9 col4\" >0.5335</td>\n",
       "      <td id=\"T_5c2bd_row9_col5\" class=\"data row9 col5\" >0.5261</td>\n",
       "      <td id=\"T_5c2bd_row9_col6\" class=\"data row9 col6\" >0.3182</td>\n",
       "      <td id=\"T_5c2bd_row9_col7\" class=\"data row9 col7\" >0.3316</td>\n",
       "      <td id=\"T_5c2bd_row9_col8\" class=\"data row9 col8\" >0.3880</td>\n",
       "    </tr>\n",
       "    <tr>\n",
       "      <th id=\"T_5c2bd_level0_row10\" class=\"row_heading level0 row10\" >ridge</th>\n",
       "      <td id=\"T_5c2bd_row10_col0\" class=\"data row10 col0\" >Ridge Classifier</td>\n",
       "      <td id=\"T_5c2bd_row10_col1\" class=\"data row10 col1\" >0.5439</td>\n",
       "      <td id=\"T_5c2bd_row10_col2\" class=\"data row10 col2\" >0.0000</td>\n",
       "      <td id=\"T_5c2bd_row10_col3\" class=\"data row10 col3\" >0.5439</td>\n",
       "      <td id=\"T_5c2bd_row10_col4\" class=\"data row10 col4\" >0.5193</td>\n",
       "      <td id=\"T_5c2bd_row10_col5\" class=\"data row10 col5\" >0.4606</td>\n",
       "      <td id=\"T_5c2bd_row10_col6\" class=\"data row10 col6\" >0.2374</td>\n",
       "      <td id=\"T_5c2bd_row10_col7\" class=\"data row10 col7\" >0.2681</td>\n",
       "      <td id=\"T_5c2bd_row10_col8\" class=\"data row10 col8\" >0.0120</td>\n",
       "    </tr>\n",
       "    <tr>\n",
       "      <th id=\"T_5c2bd_level0_row11\" class=\"row_heading level0 row11\" >svm</th>\n",
       "      <td id=\"T_5c2bd_row11_col0\" class=\"data row11 col0\" >SVM - Linear Kernel</td>\n",
       "      <td id=\"T_5c2bd_row11_col1\" class=\"data row11 col1\" >0.5269</td>\n",
       "      <td id=\"T_5c2bd_row11_col2\" class=\"data row11 col2\" >0.0000</td>\n",
       "      <td id=\"T_5c2bd_row11_col3\" class=\"data row11 col3\" >0.5269</td>\n",
       "      <td id=\"T_5c2bd_row11_col4\" class=\"data row11 col4\" >0.4722</td>\n",
       "      <td id=\"T_5c2bd_row11_col5\" class=\"data row11 col5\" >0.4414</td>\n",
       "      <td id=\"T_5c2bd_row11_col6\" class=\"data row11 col6\" >0.2026</td>\n",
       "      <td id=\"T_5c2bd_row11_col7\" class=\"data row11 col7\" >0.2377</td>\n",
       "      <td id=\"T_5c2bd_row11_col8\" class=\"data row11 col8\" >0.0380</td>\n",
       "    </tr>\n",
       "    <tr>\n",
       "      <th id=\"T_5c2bd_level0_row12\" class=\"row_heading level0 row12\" >ada</th>\n",
       "      <td id=\"T_5c2bd_row12_col0\" class=\"data row12 col0\" >Ada Boost Classifier</td>\n",
       "      <td id=\"T_5c2bd_row12_col1\" class=\"data row12 col1\" >0.5077</td>\n",
       "      <td id=\"T_5c2bd_row12_col2\" class=\"data row12 col2\" >0.0000</td>\n",
       "      <td id=\"T_5c2bd_row12_col3\" class=\"data row12 col3\" >0.5077</td>\n",
       "      <td id=\"T_5c2bd_row12_col4\" class=\"data row12 col4\" >0.4958</td>\n",
       "      <td id=\"T_5c2bd_row12_col5\" class=\"data row12 col5\" >0.4815</td>\n",
       "      <td id=\"T_5c2bd_row12_col6\" class=\"data row12 col6\" >0.2612</td>\n",
       "      <td id=\"T_5c2bd_row12_col7\" class=\"data row12 col7\" >0.2686</td>\n",
       "      <td id=\"T_5c2bd_row12_col8\" class=\"data row12 col8\" >0.5680</td>\n",
       "    </tr>\n",
       "    <tr>\n",
       "      <th id=\"T_5c2bd_level0_row13\" class=\"row_heading level0 row13\" >dummy</th>\n",
       "      <td id=\"T_5c2bd_row13_col0\" class=\"data row13 col0\" >Dummy Classifier</td>\n",
       "      <td id=\"T_5c2bd_row13_col1\" class=\"data row13 col1\" >0.4709</td>\n",
       "      <td id=\"T_5c2bd_row13_col2\" class=\"data row13 col2\" >0.5000</td>\n",
       "      <td id=\"T_5c2bd_row13_col3\" class=\"data row13 col3\" >0.4709</td>\n",
       "      <td id=\"T_5c2bd_row13_col4\" class=\"data row13 col4\" >0.2217</td>\n",
       "      <td id=\"T_5c2bd_row13_col5\" class=\"data row13 col5\" >0.3015</td>\n",
       "      <td id=\"T_5c2bd_row13_col6\" class=\"data row13 col6\" >0.0000</td>\n",
       "      <td id=\"T_5c2bd_row13_col7\" class=\"data row13 col7\" >0.0000</td>\n",
       "      <td id=\"T_5c2bd_row13_col8\" class=\"data row13 col8\" >0.0100</td>\n",
       "    </tr>\n",
       "  </tbody>\n",
       "</table>\n"
      ],
      "text/plain": [
       "<pandas.io.formats.style.Styler at 0x35416fb50>"
      ]
     },
     "metadata": {},
     "output_type": "display_data"
    },
    {
     "data": {
      "text/html": [],
      "text/plain": [
       "<IPython.core.display.HTML object>"
      ]
     },
     "metadata": {},
     "output_type": "display_data"
    }
   ],
   "source": [
    "s = setup(data=df, target='label')\n",
    "best = compare_models()"
   ]
  },
  {
   "cell_type": "code",
   "execution_count": 6,
   "metadata": {},
   "outputs": [
    {
     "name": "stdout",
     "output_type": "stream",
     "text": [
      "                                    Model  Accuracy     AUC  Recall   Prec.  \\\n",
      "et                 Extra Trees Classifier    0.8323  0.9679  0.8323  0.8319   \n",
      "rf               Random Forest Classifier    0.8260  0.9663  0.8260  0.8250   \n",
      "lightgbm  Light Gradient Boosting Machine    0.7937  0.9555  0.7937  0.7928   \n",
      "knn                K Neighbors Classifier    0.7709  0.9295  0.7709  0.7671   \n",
      "dt               Decision Tree Classifier    0.7547  0.8345  0.7547  0.7553   \n",
      "gbc          Gradient Boosting Classifier    0.7308  0.0000  0.7308  0.7287   \n",
      "qda       Quadratic Discriminant Analysis    0.6482  0.0000  0.6482  0.6757   \n",
      "nb                            Naive Bayes    0.5916  0.8577  0.5916  0.6434   \n",
      "lda          Linear Discriminant Analysis    0.5703  0.0000  0.5703  0.5319   \n",
      "lr                    Logistic Regression    0.5678  0.0000  0.5678  0.5335   \n",
      "ridge                    Ridge Classifier    0.5439  0.0000  0.5439  0.5193   \n",
      "svm                   SVM - Linear Kernel    0.5269  0.0000  0.5269  0.4722   \n",
      "ada                  Ada Boost Classifier    0.5077  0.0000  0.5077  0.4958   \n",
      "dummy                    Dummy Classifier    0.4709  0.5000  0.4709  0.2217   \n",
      "\n",
      "              F1   Kappa     MCC  TT (Sec)  \n",
      "et        0.8291  0.7533  0.7541     0.600  \n",
      "rf        0.8230  0.7443  0.7449     1.891  \n",
      "lightgbm  0.7925  0.6986  0.6989     3.550  \n",
      "knn       0.7668  0.6624  0.6630     0.075  \n",
      "dt        0.7549  0.6444  0.6444     0.111  \n",
      "gbc       0.7259  0.6036  0.6050    14.487  \n",
      "qda       0.6572  0.5063  0.5092     0.016  \n",
      "nb        0.6097  0.4370  0.4414     0.014  \n",
      "lda       0.5311  0.3263  0.3383     0.015  \n",
      "lr        0.5261  0.3182  0.3316     0.388  \n",
      "ridge     0.4606  0.2374  0.2681     0.012  \n",
      "svm       0.4414  0.2026  0.2377     0.038  \n",
      "ada       0.4815  0.2612  0.2686     0.568  \n",
      "dummy     0.3015  0.0000  0.0000     0.010  \n"
     ]
    },
    {
     "data": {
      "image/png": "[encoded data removed]",
      "text/plain": [
       "<Figure size 1000x600 with 1 Axes>"
      ]
     },
     "metadata": {},
     "output_type": "display_data"
    },
    {
     "data": {
      "image/png": "[encoded data removed]",
      "text/plain": [
       "<Figure size 1000x600 with 1 Axes>"
      ]
     },
     "metadata": {},
     "output_type": "display_data"
    },
    {
     "data": {
      "image/png": "[encoded data removed]",
      "text/plain": [
       "<Figure size 1200x800 with 1 Axes>"
      ]
     },
     "metadata": {},
     "output_type": "display_data"
    }
   ],
   "source": [
    "# Extract the results, including training time\n",
    "results = pull()\n",
    "\n",
    "# Print the results\n",
    "print(results)\n",
    "\n",
    "# Plot the training time\n",
    "plt.figure(figsize=(10, 6))\n",
    "plt.bar(results.index, results['TT (Sec)'], color='blue')\n",
    "plt.xlabel('Model')\n",
    "plt.ylabel('Training Time (Seconds)')\n",
    "plt.title('Training Time for Different Models')\n",
    "plt.xticks(rotation=45)\n",
    "plt.grid(True)\n",
    "plt.show()\n",
    "\n",
    "# Plot the accuracy\n",
    "plt.figure(figsize=(10, 6))\n",
    "plt.bar(results.index, results['Accuracy'], color='green')\n",
    "plt.xlabel('Model')\n",
    "plt.ylabel('Accuracy')\n",
    "plt.title('Accuracy for Different Models')\n",
    "plt.xticks(rotation=45)\n",
    "plt.grid(True)\n",
    "plt.show()\n",
    "\n",
    "# Create a scatter plot for training time vs. accuracy\n",
    "plt.figure(figsize=(12, 8))\n",
    "plt.scatter(results['TT (Sec)'], results['Accuracy'], color='blue', s=100)\n",
    "\n",
    "# Annotate the points with model names\n",
    "for i, model in enumerate(results.index):\n",
    "    plt.annotate(model, (results['TT (Sec)'][i], results['Accuracy'][i]), fontsize=12)\n",
    "\n",
    "plt.xlabel('Training Time (Seconds)')\n",
    "plt.ylabel('Accuracy')\n",
    "plt.title('Training Time vs. Accuracy for Different Models')\n",
    "plt.grid(True)\n",
    "plt.show()"
   ]
  },
  {
   "cell_type": "markdown",
   "metadata": {},
   "source": [
    "ET and KNN are definitely the best choices if we were to do reinforcement learning. ET gives the best accuracy at a reasonable time and knn gives slightly lower accuracy but at much faster training time."
   ]
  },
  {
   "cell_type": "markdown",
   "metadata": {},
   "source": []
  }
 ],
 "metadata": {
  "kernelspec": {
   "display_name": "saha_seg",
   "language": "python",
   "name": "python3"
  },
  "language_info": {
   "codemirror_mode": {
    "name": "ipython",
    "version": 3
   },
   "file_extension": ".py",
   "mimetype": "text/x-python",
   "name": "python",
   "nbconvert_exporter": "python",
   "pygments_lexer": "ipython3",
   "version": "3.11.8"
  }
 },
 "nbformat": 4,
 "nbformat_minor": 2
}

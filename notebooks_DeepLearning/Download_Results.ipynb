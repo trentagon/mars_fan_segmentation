{
 "cells": [
  {
   "cell_type": "markdown",
   "metadata": {},
   "source": [
    "# Download results of the deep learning training and application\n",
    "\n",
    "This notebook shows you how to download the results of applying the Saha et al. model to a sample of our Mars fan data. There are "
   ]
  },
  {
   "cell_type": "markdown",
   "metadata": {},
   "source": [
    "## How to download the results?\n",
    "\n",
    "The preprocessed images are currently stored on google drive, under my (Trent's) account. They will probably be moved to Zenodo at some point later. \n",
    "\n",
    "Results can be downloaded with the code below or with this link:\n",
    "\n",
    "https://drive.google.com/file/d/1UGrLi9AQV6u8xCELKzMFIbqnw7_-k8Zn/view?usp=share_link"
   ]
  },
  {
   "cell_type": "code",
   "execution_count": null,
   "metadata": {},
   "outputs": [],
   "source": [
    "import os\n",
    "import gdown\n",
    "import zipfile\n",
    "import shutil\n",
    "\n",
    "# Path to your working directory to store the images\n",
    "# dir_path = \"/Users/tthomas/Desktop/ESS569/MLGEO2024_MarsFans/\" # This is an example, change it to your own path\n",
    "\n",
    "dir_path = \"/Users/tthomas/Desktop/\"\n",
    "\n",
    "# Define the Google Drive file URL\n",
    "file_url = 'https://drive.google.com/file/d/1UGrLi9AQV6u8xCELKzMFIbqnw7_-k8Zn'\n",
    "\n",
    "# Define the local path to save the downloaded zip file\n",
    "zip_file_path = os.path.join(dir_path, 'images.zip')\n",
    "\n",
    "# Download the zip file\n",
    "gdown.download(file_url, zip_file_path, quiet=False)\n",
    "\n",
    "# Unzip the downloaded file\n",
    "with zipfile.ZipFile(zip_file_path, 'r') as zip_ref:\n",
    "    zip_ref.extractall(dir_path)\n",
    "\n",
    "# Delete the zip file after extraction\n",
    "os.remove(zip_file_path)\n",
    "\n",
    "# Delete the __MACOSX folder if it exists\n",
    "macosx_folder = os.path.join(dir_path, '__MACOSX')\n",
    "if os.path.exists(macosx_folder):\n",
    "    shutil.rmtree(macosx_folder)\n",
    "\n",
    "print(\"File downloaded and extracted successfully.\")"
   ]
  }
 ],
 "metadata": {
  "kernelspec": {
   "display_name": "saha_seg",
   "language": "python",
   "name": "python3"
  },
  "language_info": {
   "codemirror_mode": {
    "name": "ipython",
    "version": 3
   },
   "file_extension": ".py",
   "mimetype": "text/x-python",
   "name": "python",
   "nbconvert_exporter": "python",
   "pygments_lexer": "ipython3",
   "version": "3.11.8"
  }
 },
 "nbformat": 4,
 "nbformat_minor": 2
}

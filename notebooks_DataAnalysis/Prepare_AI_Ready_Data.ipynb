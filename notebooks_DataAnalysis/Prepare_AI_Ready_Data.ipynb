{
 "cells": [
  {
   "cell_type": "markdown",
   "metadata": {},
   "source": [
    "# Generate AI-ready Data\n",
    "\n",
    "`Input:` level 2 cleaned and clipped data\n",
    "\n",
    "`Output:` level 3 ai-ready data\n",
    "\n",
    "This notebook processes the cleaned images that are clipped to the target alluvial fan in Eberswalde crater. This mainly means matching the resolution of the images and changing the underlying shape of the value distributions (i.e., the histograms). This puts the data in a format that is conducive for deep learning algorithms.\n",
    "\n",
    "**You can skip this notebook** and just download the level 3 data in the `Download_Data` notebook if you want. This notebook is here for reproducibility and open-source purposes."
   ]
  },
  {
   "cell_type": "code",
   "execution_count": 33,
   "metadata": {},
   "outputs": [],
   "source": [
    "import rioxarray as rxr\n",
    "import rasterio as rio\n",
    "import matplotlib.pyplot as plt\n",
    "import numpy as np\n",
    "import os\n",
    "import gdown\n",
    "import zipfile\n",
    "import shutil\n",
    "\n",
    "data_path = '/Users/tthomas/Desktop/ESS569/MLGEO2024_MarsFans/data/clean/' # Where is the level 2 data stored? Change this for your machine\n",
    "save_path = '/Users/tthomas/Desktop/ESS569/MLGEO2024_MarsFans/data/ai_ready/' # Where should the level 3 data be saved? Change this for your machine"
   ]
  },
  {
   "cell_type": "code",
   "execution_count": 6,
   "metadata": {},
   "outputs": [],
   "source": [
    "def normalize_image(image):\n",
    "    \"\"\"\n",
    "    Normalize the values of an image to be between 0 and 1.\n",
    "\n",
    "    Parameters:\n",
    "    image (xarray.DataArray): The image to normalize.\n",
    "\n",
    "    Returns:\n",
    "    xarray.DataArray: The normalized image.\n",
    "    \"\"\"\n",
    "    # Get the minimum and maximum values of the image\n",
    "    min_val = image.min().item()\n",
    "    max_val = image.max().item()\n",
    "\n",
    "    # Normalize the image\n",
    "    normalized_image = (image - min_val) / (max_val - min_val)\n",
    "\n",
    "    return normalized_image"
   ]
  },
  {
   "cell_type": "code",
   "execution_count": 8,
   "metadata": {},
   "outputs": [],
   "source": [
    "def plot_image_and_histogram(image, title):\n",
    "    \"\"\"\n",
    "    Plots an image and its histogram side by side.\n",
    "\n",
    "    Parameters:\n",
    "    image (xarray.DataArray): The image to plot.\n",
    "    title (str): The title for the plots.\n",
    "    \"\"\"\n",
    "    # Remove NaN values for the histogram\n",
    "    data_values = image.values.flatten()\n",
    "    data_values = data_values[~np.isnan(data_values)]\n",
    "\n",
    "    # Create the histogram\n",
    "    n, bins = np.histogram(data_values, bins=50)\n",
    "\n",
    "    # Create a figure with two subplots\n",
    "    fig, ax = plt.subplots(1, 2, figsize=(14, 6))\n",
    "\n",
    "    # Plot the histogram\n",
    "    ax[1].stairs(n, bins)\n",
    "    ax[1].set_title(f\"{title} Histogram\")\n",
    "    ax[1].set_xlabel(\"Value\")\n",
    "    ax[1].set_ylabel(\"Frequency\")\n",
    "\n",
    "    # Plot the image\n",
    "    image.plot(ax=ax[0])\n",
    "    ax[0].set_title(title)\n",
    "\n",
    "    # Adjust layout\n",
    "    plt.tight_layout()\n",
    "    plt.show()"
   ]
  },
  {
   "cell_type": "code",
   "execution_count": 22,
   "metadata": {},
   "outputs": [],
   "source": [
    "blendDEM = rxr.open_rasterio(data_path + \"blendDEM_clipped.tif\", cache=False)\n",
    "blendSLOPE = rxr.open_rasterio(data_path + \"blendSLOPE_clipped.tif\", cache=False)\n",
    "\n",
    "ctxDEM = rxr.open_rasterio(data_path + \"ctxDEM_clipped.tif\", cache=False)\n",
    "ctxIMG = rxr.open_rasterio(data_path + \"ctxIMG_clipped.tif\", cache=False)\n",
    "ctxSLOPE = rxr.open_rasterio(data_path + \"ctxSLOPE_clipped.tif\", cache=False)\n",
    "\n",
    "dayIR = rxr.open_rasterio(data_path + \"dayIR_clipped.tif\", cache=False)\n",
    "nightIR = rxr.open_rasterio(data_path + \"nightIR_clipped.tif\", cache=False)\n",
    "\n",
    "hrscND = rxr.open_rasterio(data_path + \"hrscND_clipped.tif\", cache=False)\n",
    "hrscP1 = rxr.open_rasterio(data_path + \"hrscP1_clipped.tif\", cache=False)\n",
    "hrscP2 = rxr.open_rasterio(data_path + \"hrscP2_clipped.tif\", cache=False)\n",
    "hrscS1 = rxr.open_rasterio(data_path + \"hrscS1_clipped.tif\", cache=False)\n",
    "hrscS2 = rxr.open_rasterio(data_path + \"hrscS2_clipped.tif\", cache=False)\n",
    "\n",
    "clipped_imgs = [blendDEM, blendSLOPE, ctxDEM, ctxIMG, ctxSLOPE, dayIR, nightIR, hrscND, hrscP1, hrscP2, hrscS1, hrscS2]\n",
    "clipped_names = ['blendDEM', 'blendSLOPE', 'ctxDEM', 'ctxIMG', 'ctxSLOPE', 'dayIR', 'nightIR', 'hrscND', 'hrscP1', 'hrscP2', 'hrscS1', 'hrscS2']\n",
    "\n",
    "# # Plot each image and its histogram\n",
    "# for img, name in zip(clipped_imgs, clipped_names):\n",
    "#     plot_image_and_histogram(img, name)"
   ]
  },
  {
   "cell_type": "markdown",
   "metadata": {},
   "source": [
    "### Processing and normalization\n",
    "\n",
    "- Remove all values greater than 10 in the CTX slope map\n",
    "- Take the log of the DEMs\n",
    "- Normalize to 0-1 range"
   ]
  },
  {
   "cell_type": "code",
   "execution_count": 38,
   "metadata": {},
   "outputs": [],
   "source": [
    "ctxSLOPE_trim = ctxSLOPE.where(ctxSLOPE <= 10, other=ctxSLOPE.median())\n",
    "\n",
    "# Shift the DEMs so they're greater than 0\n",
    "blendDEM_shifted = blendDEM - blendDEM.min() - blendDEM.max()\n",
    "ctxDEM_shifted = ctxDEM - ctxDEM.min() - ctxDEM.max()\n",
    "\n",
    "# Take the log10 of the shifted DEMs\n",
    "blendDEM_log = np.log10(blendDEM_shifted)\n",
    "ctxDEM_log = np.log10(ctxDEM_shifted)\n",
    "\n",
    "clipped_imgs = [blendDEM_log, blendSLOPE, ctxDEM_log, ctxIMG, ctxSLOPE_trim, dayIR, nightIR, hrscND, hrscP1, hrscP2, hrscS1, hrscS2]\n",
    "normalized_imgs = [normalize_image(img) for img in clipped_imgs]\n",
    "\n",
    "# for img, name in zip(normalized_imgs, clipped_names):\n",
    "#     plot_image_and_histogram(img, name)"
   ]
  },
  {
   "cell_type": "markdown",
   "metadata": {},
   "source": [
    "### Match the resolution"
   ]
  },
  {
   "cell_type": "code",
   "execution_count": 39,
   "metadata": {},
   "outputs": [
    {
     "name": "stdout",
     "output_type": "stream",
     "text": [
      "Size of blendDEM: 72 x 76, Total size: 5472\n",
      "Size of blendSLOPE: 72 x 76, Total size: 5472\n",
      "Size of ctxDEM: 798 x 775, Total size: 618450\n",
      "Size of ctxIMG: 2873 x 3048, Total size: 8756904\n",
      "Size of ctxSLOPE: 798 x 775, Total size: 618450\n",
      "Size of dayIR: 144 x 152, Total size: 21888\n",
      "Size of nightIR: 144 x 152, Total size: 21888\n",
      "Size of hrscND: 1149 x 1118, Total size: 1284582\n",
      "Size of hrscP1: 574 x 559, Total size: 320866\n",
      "Size of hrscP2: 574 x 559, Total size: 320866\n",
      "Size of hrscS1: 1149 x 1118, Total size: 1284582\n",
      "Size of hrscS2: 1149 x 1118, Total size: 1284582\n"
     ]
    }
   ],
   "source": [
    "for img, name in zip(normalized_imgs, clipped_names):\n",
    "    length, width = img.shape[1], img.shape[2]\n",
    "    print(f\"Size of {name}: {length} x {width}, Total size: {img.size}\")"
   ]
  },
  {
   "cell_type": "code",
   "execution_count": 40,
   "metadata": {},
   "outputs": [
    {
     "name": "stdout",
     "output_type": "stream",
     "text": [
      "Resized size of blendDEM: 2873 x 3048, Total size: 8756904\n",
      "Resized size of blendSLOPE: 2873 x 3048, Total size: 8756904\n",
      "Resized size of ctxDEM: 2873 x 3048, Total size: 8756904\n",
      "Resized size of ctxIMG: 2873 x 3048, Total size: 8756904\n",
      "Resized size of ctxSLOPE: 2873 x 3048, Total size: 8756904\n",
      "Resized size of dayIR: 2873 x 3048, Total size: 8756904\n",
      "Resized size of nightIR: 2873 x 3048, Total size: 8756904\n",
      "Resized size of hrscND: 2873 x 3048, Total size: 8756904\n",
      "Resized size of hrscP1: 2873 x 3048, Total size: 8756904\n",
      "Resized size of hrscP2: 2873 x 3048, Total size: 8756904\n",
      "Resized size of hrscS1: 2873 x 3048, Total size: 8756904\n",
      "Resized size of hrscS2: 2873 x 3048, Total size: 8756904\n"
     ]
    }
   ],
   "source": [
    "# Find the largest image dimensions\n",
    "max_length = max(img.shape[1] for img in normalized_imgs)\n",
    "max_width = max(img.shape[2] for img in normalized_imgs)\n",
    "\n",
    "# Define the target shape\n",
    "target_shape = (max_length, max_width)\n",
    "\n",
    "# Function to resize an image\n",
    "def resize_image(image, target_shape):\n",
    "    return image.rio.reproject(\n",
    "        dst_crs=image.rio.crs,\n",
    "        shape=target_shape,\n",
    "        resampling=rio.enums.Resampling.bilinear\n",
    "    )\n",
    "\n",
    "# Resize all images\n",
    "resized_imgs = [resize_image(img, target_shape) for img in normalized_imgs]\n",
    "\n",
    "# Verify the sizes\n",
    "for img, name in zip(resized_imgs, clipped_names):\n",
    "    length, width = img.shape[1], img.shape[2]\n",
    "    print(f\"Resized size of {name}: {length} x {width}, Total size: {img.size}\")"
   ]
  },
  {
   "cell_type": "code",
   "execution_count": 41,
   "metadata": {},
   "outputs": [
    {
     "name": "stderr",
     "output_type": "stream",
     "text": [
      "/Users/tthomas/mambaforge/envs/saha_seg/lib/python3.11/site-packages/rioxarray/raster_writer.py:130: UserWarning: The nodata value (3.402823466e+38) has been automatically changed to (3.4028234663852886e+38) to match the dtype of the data.\n",
      "  warnings.warn(\n"
     ]
    }
   ],
   "source": [
    "blendDEM_aiready, blendSLOPE_aiready, ctxDEM_aiready, ctxIMG_aiready, ctxSLOPE_aiready, dayIR_aiready, nightIR_aiready, hrscND_aiready, hrscP1_aiready, hrscP2_aiready, hrscS1_aiready, hrscS2_aiready = resized_imgs\n",
    "\n",
    "blendDEM_aiready.rio.to_raster(save_path + \"blendDEM_aiready.tif\")\n",
    "blendSLOPE_aiready.rio.to_raster(save_path + \"blendSLOPE_aiready.tif\")\n",
    "ctxDEM_aiready.rio.to_raster(save_path + \"ctxDEM_aiready.tif\")\n",
    "ctxIMG_aiready.rio.to_raster(save_path + \"ctxIMG_aiready.tif\")\n",
    "ctxSLOPE_aiready.rio.to_raster(save_path + \"ctxSLOPE_aiready.tif\")\n",
    "dayIR_aiready.rio.to_raster(save_path + \"dayIR_aiready.tif\")\n",
    "nightIR_aiready.rio.to_raster(save_path + \"nightIR_aiready.tif\")\n",
    "hrscND_aiready.rio.to_raster(save_path + \"hrscND_aiready.tif\")\n",
    "hrscP1_aiready.rio.to_raster(save_path + \"hrscP1_aiready.tif\")\n",
    "hrscP2_aiready.rio.to_raster(save_path + \"hrscP2_aiready.tif\")\n",
    "hrscS1_aiready.rio.to_raster(save_path + \"hrscS1_aiready.tif\")\n",
    "hrscS2_aiready.rio.to_raster(save_path + \"hrscS2_aiready.tif\")"
   ]
  },
  {
   "cell_type": "markdown",
   "metadata": {},
   "source": [
    "## Plot the ai-ready images for confirmation"
   ]
  },
  {
   "cell_type": "code",
   "execution_count": 34,
   "metadata": {},
   "outputs": [],
   "source": [
    "# for img, name in zip(resized_imgs, clipped_names):\n",
    "#     plot_image_and_histogram(img, name)"
   ]
  },
  {
   "cell_type": "code",
   "execution_count": null,
   "metadata": {},
   "outputs": [],
   "source": [
    "# Marine suggests using Standard Scaling Normalization to normalize the data\n",
    "# This will scale the data to have a mean of 0 and a standard deviation of 1, making the distributions more comparable"
   ]
  }
 ],
 "metadata": {
  "kernelspec": {
   "display_name": "saha_seg",
   "language": "python",
   "name": "python3"
  },
  "language_info": {
   "codemirror_mode": {
    "name": "ipython",
    "version": 3
   },
   "file_extension": ".py",
   "mimetype": "text/x-python",
   "name": "python",
   "nbconvert_exporter": "python",
   "pygments_lexer": "ipython3",
   "version": "3.11.8"
  }
 },
 "nbformat": 4,
 "nbformat_minor": 2
}
